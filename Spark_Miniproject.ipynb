{
  "cells": [
    {
      "cell_type": "markdown",
      "metadata": {
        "id": "view-in-github",
        "colab_type": "text"
      },
      "source": [
        "<a href=\"https://colab.research.google.com/github/baptiste-bedouret/Spark/blob/master/Spark_Miniproject.ipynb\" target=\"_parent\"><img src=\"https://colab.research.google.com/assets/colab-badge.svg\" alt=\"Open In Colab\"/></a>"
      ]
    },
    {
      "cell_type": "markdown",
      "metadata": {
        "id": "V2zQ4YaxDltl"
      },
      "source": [
        "# Spark Mini Project"
      ]
    },
    {
      "cell_type": "markdown",
      "metadata": {
        "id": "VS23xglSNEQR"
      },
      "source": [
        "## Load Spark"
      ]
    },
    {
      "cell_type": "code",
      "execution_count": null,
      "metadata": {
        "id": "SM8JH7ATM3OE"
      },
      "outputs": [],
      "source": [
        "!pip install pyspark"
      ]
    },
    {
      "cell_type": "code",
      "execution_count": 2,
      "metadata": {
        "id": "aclvy2G2M4xI"
      },
      "outputs": [],
      "source": [
        "import pyspark"
      ]
    },
    {
      "cell_type": "code",
      "source": [
        "# import os\n",
        "# import sys\n",
        "\n",
        "# os.environ['PYSPARK_PYTHON'] = sys.executable\n",
        "# os.environ['PYSPARK_DRIVER_PYTHON'] = sys.executable"
      ],
      "metadata": {
        "id": "3hCh9O2ILxMc"
      },
      "execution_count": 3,
      "outputs": []
    },
    {
      "cell_type": "code",
      "execution_count": 4,
      "metadata": {
        "id": "HzftkBLxM7dz"
      },
      "outputs": [],
      "source": [
        "spark = pyspark.sql.SparkSession.builder.appName('MiniProject').config(\"spark.executor.memory\", \"4g\").getOrCreate()"
      ]
    },
    {
      "cell_type": "code",
      "execution_count": 5,
      "metadata": {
        "colab": {
          "base_uri": "https://localhost:8080/",
          "height": 219
        },
        "id": "5p3IST2MM9vE",
        "outputId": "0a49b9f6-5350-4e42-b062-dd1606ba8540"
      },
      "outputs": [
        {
          "output_type": "execute_result",
          "data": {
            "text/plain": [
              "<pyspark.sql.session.SparkSession at 0x78af08195360>"
            ],
            "text/html": [
              "\n",
              "            <div>\n",
              "                <p><b>SparkSession - in-memory</b></p>\n",
              "                \n",
              "        <div>\n",
              "            <p><b>SparkContext</b></p>\n",
              "\n",
              "            <p><a href=\"http://0a560ce1891b:4040\">Spark UI</a></p>\n",
              "\n",
              "            <dl>\n",
              "              <dt>Version</dt>\n",
              "                <dd><code>v3.5.0</code></dd>\n",
              "              <dt>Master</dt>\n",
              "                <dd><code>local[*]</code></dd>\n",
              "              <dt>AppName</dt>\n",
              "                <dd><code>MiniProject</code></dd>\n",
              "            </dl>\n",
              "        </div>\n",
              "        \n",
              "            </div>\n",
              "        "
            ]
          },
          "metadata": {},
          "execution_count": 5
        }
      ],
      "source": [
        "spark"
      ]
    },
    {
      "cell_type": "markdown",
      "metadata": {
        "id": "HNkRPfphvoA0"
      },
      "source": [
        "## Libraries"
      ]
    },
    {
      "cell_type": "code",
      "execution_count": 6,
      "metadata": {
        "id": "VoyR9QJYvryN"
      },
      "outputs": [],
      "source": [
        "import pandas as pd\n",
        "from functools import reduce\n",
        "from pyspark.sql import DataFrame\n",
        "from pyspark.sql.functions import to_date, year, month, weekofyear, col, format_number, avg, date_format, when, round\n",
        "import seaborn as sns\n",
        "import matplotlib.pyplot as plt"
      ]
    },
    {
      "cell_type": "markdown",
      "metadata": {
        "id": "SBR0Fp4Ua7D0"
      },
      "source": [
        "## Data preparation - Step 1"
      ]
    },
    {
      "cell_type": "code",
      "execution_count": 7,
      "metadata": {
        "colab": {
          "base_uri": "https://localhost:8080/"
        },
        "id": "7JrwbGhxsXcA",
        "outputId": "8f987173-90c9-469a-c85f-05514b1ada8f"
      },
      "outputs": [
        {
          "output_type": "stream",
          "name": "stdout",
          "text": [
            "Mounted at /content/drive\n"
          ]
        }
      ],
      "source": [
        "from google.colab import drive\n",
        "drive.mount('/content/drive', force_remount=True)"
      ]
    },
    {
      "cell_type": "markdown",
      "metadata": {
        "id": "_P3usZyNbBGG"
      },
      "source": [
        "### 1- Read and merge all gas files"
      ]
    },
    {
      "cell_type": "markdown",
      "source": [
        "I downloaded from github all the gas files in format csv.gz and I used the linux command line `gunzip` to convert them to csv. Next step was to add them in Google drive which took me about 1 hour."
      ],
      "metadata": {
        "id": "_r_ydapSlPYj"
      }
    },
    {
      "cell_type": "code",
      "execution_count": 8,
      "metadata": {
        "colab": {
          "base_uri": "https://localhost:8080/"
        },
        "id": "7l8OHIckrmMM",
        "outputId": "b859c3b7-1f9a-45b9-b01b-a2891a8c1f2a"
      },
      "outputs": [
        {
          "output_type": "stream",
          "name": "stdout",
          "text": [
            "+-------+----+---+---------+--------+-------------------+---+------+----+\n",
            "|    _c0| _c1|_c2|      _c3|     _c4|                _c5|_c6|   _c7| _c8|\n",
            "+-------+----+---+---------+--------+-------------------+---+------+----+\n",
            "|1000001|1000|  R|4620114.0|519791.0|2019-01-04 10:53:48|  1|Gazole|1328|\n",
            "|1000001|1000|  R|4620114.0|519791.0|2019-01-07 10:25:25|  1|Gazole|1348|\n",
            "|1000001|1000|  R|4620114.0|519791.0|2019-01-10 08:54:28|  1|Gazole|1374|\n",
            "|1000001|1000|  R|4620114.0|519791.0|2019-01-11 10:01:54|  1|Gazole|1387|\n",
            "|1000001|1000|  R|4620114.0|519791.0|2019-01-14 11:04:53|  1|Gazole|1394|\n",
            "+-------+----+---+---------+--------+-------------------+---+------+----+\n",
            "only showing top 5 rows\n",
            "\n",
            "\n",
            "--------------\n",
            "\n",
            "root\n",
            " |-- _c0: integer (nullable = true)\n",
            " |-- _c1: integer (nullable = true)\n",
            " |-- _c2: string (nullable = true)\n",
            " |-- _c3: double (nullable = true)\n",
            " |-- _c4: double (nullable = true)\n",
            " |-- _c5: timestamp (nullable = true)\n",
            " |-- _c6: integer (nullable = true)\n",
            " |-- _c7: string (nullable = true)\n",
            " |-- _c8: integer (nullable = true)\n",
            "\n"
          ]
        }
      ],
      "source": [
        "# Read the firt file and show the dataframe\n",
        "gas_path1 = \"/content/drive/My Drive/Smart-Data/Spark/Prix2019.csv\"\n",
        "dataf1 = spark.read.csv(gas_path1, sep = ';', header=False, inferSchema=True)\n",
        "\n",
        "dataf1.show(5)\n",
        "print(\"\\n--------------\\n\")\n",
        "dataf1.printSchema()"
      ]
    },
    {
      "cell_type": "markdown",
      "source": [
        "In the github page https://github.com/rvm-courses/GasPrices, all the informations that we need are gathered at the end of the page. The separators are also given."
      ],
      "metadata": {
        "id": "JgHjquiLm7QQ"
      }
    },
    {
      "cell_type": "code",
      "execution_count": 9,
      "metadata": {
        "id": "BUoe92OKsJ3w"
      },
      "outputs": [],
      "source": [
        "# Read the other gas files\n",
        "\n",
        "gas_path2 = \"/content/drive/My Drive/Smart-Data/Spark/Prix2020.csv\"\n",
        "gas_path3 = \"/content/drive/My Drive/Smart-Data/Spark/Prix2021.csv\"\n",
        "gas_path4 = \"/content/drive/My Drive/Smart-Data/Spark/Prix2022S1.csv\"\n",
        "gas_path5 = \"/content/drive/My Drive/Smart-Data/Spark/Prix2022S2.csv\"\n",
        "gas_path6 = \"/content/drive/My Drive/Smart-Data/Spark/Prix2023.csv\"\n",
        "gas_path7 = \"/content/drive/My Drive/Smart-Data/Spark/Stations2022.csv\"\n",
        "gas_path8 = \"/content/drive/My Drive/Smart-Data/Spark/Services2022.csv\"\n",
        "\n",
        "dataf2 = spark.read.csv(gas_path2, sep = ';', header=False, inferSchema=True)\n",
        "dataf3 = spark.read.csv(gas_path3, sep = ';', header=False, inferSchema=True)\n",
        "dataf4 = spark.read.csv(gas_path4, sep = ';', header=False, inferSchema=True)\n",
        "dataf5 = spark.read.csv(gas_path5, sep = ';', header=False, inferSchema=True)\n",
        "dataf6 = spark.read.csv(gas_path6, sep = ';', header=False, inferSchema=True)\n",
        "dataf7 = spark.read.csv(gas_path7, sep = '|', header=False, inferSchema=True)\n",
        "dataf8 = spark.read.csv(gas_path8, sep = '|', header=False, inferSchema=True)"
      ]
    },
    {
      "cell_type": "markdown",
      "source": [
        "Here I created a function that rename the columns to be able to do some further processing and to understand better on what we are working on."
      ],
      "metadata": {
        "id": "9ivfMdlcnQ9a"
      }
    },
    {
      "cell_type": "code",
      "execution_count": 10,
      "metadata": {
        "id": "6ai8GyvZQvSi"
      },
      "outputs": [],
      "source": [
        "# Rename the columns for further process and visualization\n",
        "\n",
        "def rename_columns_price(df):\n",
        "    return (\n",
        "        df\n",
        "        .withColumnRenamed(\"_c0\", \"id_pdv\")\n",
        "        .withColumnRenamed(\"_c1\", \"zip_code\")\n",
        "        .withColumnRenamed(\"_c2\", \"pop\")\n",
        "        .withColumnRenamed(\"_c3\", \"latitude\")\n",
        "        .withColumnRenamed(\"_c4\", \"longitude\")\n",
        "        .withColumnRenamed(\"_c5\", \"date\")\n",
        "        .withColumnRenamed(\"_c6\", \"gas_id\")\n",
        "        .withColumnRenamed(\"_c7\", \"gas_label\")\n",
        "        .withColumnRenamed(\"_c8\", \"price\")\n",
        "    )\n",
        "\n",
        "df1 = rename_columns_price(dataf1)\n",
        "df2 = rename_columns_price(dataf2)\n",
        "df3 = rename_columns_price(dataf3)\n",
        "df4 = rename_columns_price(dataf4)\n",
        "df5 = rename_columns_price(dataf5)\n",
        "df6 = rename_columns_price(dataf6)\n",
        "\n",
        "# Rename columns for stations file\n",
        "\n",
        "df7 =(\n",
        "        dataf7\n",
        "        .withColumnRenamed(\"_c0\", \"id_pdv\")\n",
        "        .withColumnRenamed(\"_c1\", \"zip_code\")\n",
        "        .withColumnRenamed(\"_c2\", \"pop\")\n",
        "        .withColumnRenamed(\"_c3\", \"latitude\")\n",
        "        .withColumnRenamed(\"_c4\", \"longitude\")\n",
        "        .withColumnRenamed(\"_c5\", \"adress\")\n",
        "        .withColumnRenamed(\"_c6\", \"city\")\n",
        "    )\n",
        "\n",
        "# Rename columns for services file\n",
        "\n",
        "df8 =(\n",
        "        dataf8\n",
        "        .withColumnRenamed(\"_c0\", \"id_pdv\")\n",
        "        .withColumnRenamed(\"_c1\", \"zip_code\")\n",
        "        .withColumnRenamed(\"_c2\", \"pop\")\n",
        "        .withColumnRenamed(\"_c3\", \"latitude\")\n",
        "        .withColumnRenamed(\"_c4\", \"longitude\")\n",
        "        .withColumnRenamed(\"_c5\", \"services\")\n",
        "    )"
      ]
    },
    {
      "cell_type": "code",
      "execution_count": 11,
      "metadata": {
        "colab": {
          "base_uri": "https://localhost:8080/"
        },
        "id": "U5EBEwmRtZzW",
        "outputId": "ff5976bb-3da1-417b-dec6-104324eeec35"
      },
      "outputs": [
        {
          "output_type": "stream",
          "name": "stdout",
          "text": [
            "+-------+--------+---+-------------+-------------+--------------------+--------------------+\n",
            "| id_pdv|zip_code|pop|     latitude|    longitude|              adress|                city|\n",
            "+-------+--------+---+-------------+-------------+--------------------+--------------------+\n",
            "|1000001|    1000|  R|    4620100.0|     519800.0|596 AVENUE DE TRE...|SAINT-DENIS-LèS-B...|\n",
            "|1000002|    1000|  R|    4621842.0|     522767.0| 16 Avenue de Marboz|     BOURG-EN-BRESSE|\n",
            "|1000004|    1000|  R|    4618800.0|     524500.0|20 Avenue du Maré...|     Bourg-en-Bresse|\n",
            "|1000005|    1000|  R|4620093.59235|519942.024022|642 Avenue de Tré...|SAINT-DENIS-LèS-B...|\n",
            "|1000006|    1000|  R|    4620754.0|     523758.0|1 Boulevard John ...|     BOURG-EN-BRESSE|\n",
            "+-------+--------+---+-------------+-------------+--------------------+--------------------+\n",
            "only showing top 5 rows\n",
            "\n",
            "root\n",
            " |-- id_pdv: integer (nullable = true)\n",
            " |-- zip_code: integer (nullable = true)\n",
            " |-- pop: string (nullable = true)\n",
            " |-- latitude: double (nullable = true)\n",
            " |-- longitude: double (nullable = true)\n",
            " |-- adress: string (nullable = true)\n",
            " |-- city: string (nullable = true)\n",
            "\n",
            "\n",
            "--------------\n",
            "\n",
            "+-------+--------+---+-------------+-------------+--------------------+\n",
            "| id_pdv|zip_code|pop|     latitude|    longitude|            services|\n",
            "+-------+--------+---+-------------+-------------+--------------------+\n",
            "|1000001|    1000|  R|    4620100.0|     519800.0|Station de gonfla...|\n",
            "|1000002|    1000|  R|    4621842.0|     522767.0|Vente de gaz dome...|\n",
            "|1000004|    1000|  R|    4618800.0|     524500.0|Toilettes publiqu...|\n",
            "|1000005|    1000|  R|4620093.59235|519942.024022|Boutique alimenta...|\n",
            "|1000006|    1000|  R|    4620754.0|     523758.0|Vente de gaz dome...|\n",
            "+-------+--------+---+-------------+-------------+--------------------+\n",
            "only showing top 5 rows\n",
            "\n",
            "root\n",
            " |-- id_pdv: integer (nullable = true)\n",
            " |-- zip_code: integer (nullable = true)\n",
            " |-- pop: string (nullable = true)\n",
            " |-- latitude: double (nullable = true)\n",
            " |-- longitude: double (nullable = true)\n",
            " |-- services: string (nullable = true)\n",
            "\n"
          ]
        }
      ],
      "source": [
        "# Show some of the dataframe to see how they are build\n",
        "df7.show(5)\n",
        "df7.printSchema()\n",
        "print(\"\\n--------------\\n\")\n",
        "df8.show(5)\n",
        "df8.printSchema()"
      ]
    },
    {
      "cell_type": "markdown",
      "source": [
        "I realized that the values in the columns `price` in the dataframes from 2022 to 2023 are not in the same representation than the ones in the previous years. So my idea was to multiply the values by 1000 to have them in the same range as the others."
      ],
      "metadata": {
        "id": "eqzb8EjaoA-_"
      }
    },
    {
      "cell_type": "code",
      "execution_count": 12,
      "metadata": {
        "id": "Z1XVzxfxLa0E",
        "colab": {
          "base_uri": "https://localhost:8080/"
        },
        "outputId": "1f522f8b-b35f-45bb-c65f-abe4c17f4fdd"
      },
      "outputs": [
        {
          "output_type": "stream",
          "name": "stdout",
          "text": [
            "+-------+--------+---+---------+---------+-------------------+------+---------+------+\n",
            "| id_pdv|zip_code|pop| latitude|longitude|               date|gas_id|gas_label| price|\n",
            "+-------+--------+---+---------+---------+-------------------+------+---------+------+\n",
            "|1000001|    1000|  R|4620100.0| 519800.0|2022-01-03 08:44:18|     1|   Gazole|1572.0|\n",
            "|1000001|    1000|  R|4620100.0| 519800.0|2022-01-05 10:08:11|     1|   Gazole|1560.0|\n",
            "|1000001|    1000|  R|4620100.0| 519800.0|2022-01-10 10:09:08|     1|   Gazole|1603.0|\n",
            "|1000001|    1000|  R|4620100.0| 519800.0|2022-01-17 12:34:42|     1|   Gazole|1616.0|\n",
            "|1000001|    1000|  R|4620100.0| 519800.0|2022-01-17 12:34:44|     1|   Gazole|1616.0|\n",
            "+-------+--------+---+---------+---------+-------------------+------+---------+------+\n",
            "only showing top 5 rows\n",
            "\n"
          ]
        }
      ],
      "source": [
        "# Normalized the column 'price' for the years 2022 and 2023\n",
        "\n",
        "# Multiply the values in the 'price' column by 1000\n",
        "df4 = df4.withColumn(\"price\", col(\"price\") * 1000)\n",
        "df5 = df5.withColumn(\"price\", col(\"price\") * 1000)\n",
        "df6 = df6.withColumn(\"price\", col(\"price\") * 1000)\n",
        "\n",
        "df4.show(5)"
      ]
    },
    {
      "cell_type": "markdown",
      "source": [
        "Here was a tricky phase because the objective was to merge all the gas files.\n",
        "First of all, I concatenated all the dataframes from the price files. Indeed, they have the same columns so it wasn't difficult."
      ],
      "metadata": {
        "id": "CIcemSHpox94"
      }
    },
    {
      "cell_type": "code",
      "execution_count": 13,
      "metadata": {
        "colab": {
          "base_uri": "https://localhost:8080/"
        },
        "id": "TMcHtgc0Hylw",
        "outputId": "fbc86048-e5d3-415a-9c41-3fe8eb4e376d"
      },
      "outputs": [
        {
          "output_type": "stream",
          "name": "stdout",
          "text": [
            "\n",
            "--------------\n",
            "\n"
          ]
        }
      ],
      "source": [
        "# Concatenate all the price files\n",
        "\n",
        "# list of the prices dataframes\n",
        "frames = [df1, df2, df3, df4, df5, df6]\n",
        "\n",
        "# create merged dataframe\n",
        "df_concat = reduce(DataFrame.union, frames)\n",
        "\n",
        "# See if it has been well concatenated\n",
        "# df_concat.show(5)\n",
        "print(\"\\n--------------\\n\")\n",
        "# df_concat.tail(5)"
      ]
    },
    {
      "cell_type": "markdown",
      "source": [
        "Finally, I used the outer join which allows us to create a join between 2 tables. By using this command, we can combine the results of 2 tables, associate them with a condition and fill with NULL values if the condition is not met.\n",
        "\n",
        "So I used this command to join the **service dataframe** with the **concatenated price dataframe** to be able to combine the results where columns in both table are similar and add the service's columns if they are new. (Same for station dataframe). `df_final` is the generated result."
      ],
      "metadata": {
        "id": "sEHYwsGYpa-R"
      }
    },
    {
      "cell_type": "code",
      "execution_count": 14,
      "metadata": {
        "colab": {
          "base_uri": "https://localhost:8080/"
        },
        "id": "LbaG0ICLeBgs",
        "outputId": "4598d44c-44dd-434f-b822-4271dcdd7576"
      },
      "outputs": [
        {
          "output_type": "stream",
          "name": "stdout",
          "text": [
            "\n",
            "--------------\n",
            "\n"
          ]
        }
      ],
      "source": [
        "# Merge the gas files with the outer join\n",
        "\n",
        "common_columns=[\"id_pdv\", \"zip_code\", \"pop\", \"latitude\", \"longitude\"]\n",
        "df_join = df_concat.join(df7, on=common_columns, how=\"outer\")\n",
        "df_final = df_join.join(df8, on=common_columns, how=\"outer\")\n",
        "\n",
        "# df_join.show(5)\n",
        "print(\"\\n--------------\\n\")\n",
        "# df_final.show(5)"
      ]
    },
    {
      "cell_type": "markdown",
      "metadata": {
        "id": "EzzWfM-oYQgw"
      },
      "source": [
        "### 2- Split date in year, month, week of the year"
      ]
    },
    {
      "cell_type": "markdown",
      "source": [
        "Next was to split the date into year, month and week. I used for that `pyspark.sql.functions` which contains the necessary tools to be able to manage pyspark dataframes."
      ],
      "metadata": {
        "id": "LNqT6_MVrXYF"
      }
    },
    {
      "cell_type": "code",
      "execution_count": 15,
      "metadata": {
        "id": "Lmb9WrQVYOU1"
      },
      "outputs": [],
      "source": [
        "# Split date in year, month and week\n",
        "\n",
        "df_final = df_final.withColumn(\"timestamp\", to_date(col(\"date\")))\n",
        "df_final = df_final.withColumn(\"year\", year(\"timestamp\"))\n",
        "df_final = df_final.withColumn(\"month\", month(\"timestamp\"))\n",
        "df_final = df_final.withColumn(\"week_of_year\", weekofyear(\"timestamp\"))\n",
        "\n",
        "# df_final.show(5)"
      ]
    },
    {
      "cell_type": "markdown",
      "metadata": {
        "id": "1_e_WQL4d5W2"
      },
      "source": [
        "### 3- Prepare latitude & longitude for mapping"
      ]
    },
    {
      "cell_type": "markdown",
      "metadata": {
        "id": "VgrLaGMmgwea"
      },
      "source": [
        "We want the latitude and longitude to be normalized for mapping. So I divided by the right power of 10 to have the coordinates in the right shape. For example, for the first row, we have latitude: 46.188 and longitude: 5.245 which is located in Bourg-en-Bresse. Then we check if in the column 'city' we have match the right city for the new latitude and longitude. It is correct."
      ]
    },
    {
      "cell_type": "code",
      "execution_count": 16,
      "metadata": {
        "id": "LiawJmRmdbcu",
        "colab": {
          "base_uri": "https://localhost:8080/"
        },
        "outputId": "505843c6-a2d3-4bac-d012-b38632379e7c"
      },
      "outputs": [
        {
          "output_type": "stream",
          "name": "stdout",
          "text": [
            "+-------+--------+---+--------+---------+-------------------+------+---------+------+--------------------+---------------+--------------------+----------+----+-----+------------+\n",
            "| id_pdv|zip_code|pop|latitude|longitude|               date|gas_id|gas_label| price|              adress|           city|            services| timestamp|year|month|week_of_year|\n",
            "+-------+--------+---+--------+---------+-------------------+------+---------+------+--------------------+---------------+--------------------+----------+----+-----+------------+\n",
            "|1000004|    1000|  R|  46.188|    5.245|2019-01-04 20:00:00|     1|   Gazole|1440.0|20 Avenue du Maré...|Bourg-en-Bresse|Toilettes publiqu...|2019-01-04|2019|    1|           1|\n",
            "|1000004|    1000|  R|  46.188|    5.245|2020-01-13 13:24:25|     1|   Gazole|1570.0|20 Avenue du Maré...|Bourg-en-Bresse|Toilettes publiqu...|2020-01-13|2020|    1|           3|\n",
            "|1000004|    1000|  R|  46.188|    5.245|2022-01-05 14:55:02|     1|   Gazole|1670.0|20 Avenue du Maré...|Bourg-en-Bresse|Toilettes publiqu...|2022-01-05|2022|    1|           1|\n",
            "|1000004|    1000|  R|  46.188|    5.245|2019-01-08 20:00:00|     1|   Gazole|1480.0|20 Avenue du Maré...|Bourg-en-Bresse|Toilettes publiqu...|2019-01-08|2019|    1|           2|\n",
            "|1000004|    1000|  R|  46.188|    5.245|2020-01-20 17:34:50|     1|   Gazole|1550.0|20 Avenue du Maré...|Bourg-en-Bresse|Toilettes publiqu...|2020-01-20|2020|    1|           4|\n",
            "+-------+--------+---+--------+---------+-------------------+------+---------+------+--------------------+---------------+--------------------+----------+----+-----+------------+\n",
            "only showing top 5 rows\n",
            "\n"
          ]
        }
      ],
      "source": [
        "# Normalize latitude and longitude by dividing by 10^5\n",
        "\n",
        "df_final = df_final.withColumn(\"latitude\", col(\"latitude\") / 1e5)\n",
        "df_final = df_final.withColumn(\"longitude\", col(\"longitude\") / 1e5)\n",
        "df_final.show(5)"
      ]
    },
    {
      "cell_type": "markdown",
      "metadata": {
        "id": "WbCIDikJfETB"
      },
      "source": [
        "### 4- Consider which gas types have some interest"
      ]
    },
    {
      "cell_type": "markdown",
      "metadata": {
        "id": "nKrh2tEmhvc9"
      },
      "source": [
        "Through basic statistics I counted the number of distinct labels. I found 6 differents and I printed them. Then I processed by taking the gas label which are the least used in the dataframe. At the end, I removed from the dataframe the gas **E85** and **GPLc**.  \n",
        "   "
      ]
    },
    {
      "cell_type": "code",
      "execution_count": 17,
      "metadata": {
        "colab": {
          "base_uri": "https://localhost:8080/"
        },
        "id": "4TpuyMjwfC9P",
        "outputId": "d64cbfa5-3d74-45a7-c77e-55ac62186cd3"
      },
      "outputs": [
        {
          "output_type": "stream",
          "name": "stdout",
          "text": [
            "+---------+------------------+\n",
            "|gas_label|        avg(price)|\n",
            "+---------+------------------+\n",
            "|      E10|1628.2735824341332|\n",
            "|     SP98|1711.4808162481872|\n",
            "|     NULL|              NULL|\n",
            "|      E85| 841.5766589033335|\n",
            "|   Gazole|1597.1511167788422|\n",
            "|     SP95|1640.5968886100468|\n",
            "|     GPLc| 898.2909415397596|\n",
            "+---------+------------------+\n",
            "\n",
            "\n",
            "--------------\n",
            "\n",
            "+---------+-------+\n",
            "|gas_label|  count|\n",
            "+---------+-------+\n",
            "|   Gazole|6671688|\n",
            "|     SP98|5543363|\n",
            "|      E10|5534734|\n",
            "|     SP95|1641710|\n",
            "|      E85|1620438|\n",
            "|     GPLc| 957591|\n",
            "|     NULL|  18882|\n",
            "+---------+-------+\n",
            "\n"
          ]
        }
      ],
      "source": [
        "# Filtered out the least interesting gas labels\n",
        "\n",
        "# Count the number of distinct labels in the column\n",
        "# gas_label_counts = df_final.select(\"gas_label\").distinct().count()\n",
        "# print(\"Number of distinct gas labels:\", gas_label_counts)\n",
        "\n",
        "# Show what type of gas is used the most\n",
        "label_counts = df_final.groupBy('gas_label').count()\n",
        "\n",
        "# Show the average price for the differents gas label\n",
        "df_final.groupBy('gas_label').agg({'price' : 'mean'}).show()\n",
        "\n",
        "# Order the labels by count in descending order\n",
        "ordered_labels = label_counts.orderBy(col(\"count\").desc())\n",
        "print(\"\\n--------------\\n\")\n",
        "ordered_labels.show()"
      ]
    },
    {
      "cell_type": "code",
      "execution_count": 18,
      "metadata": {
        "id": "zUtVH0kQJdOD"
      },
      "outputs": [],
      "source": [
        "# Define the labels to be removed\n",
        "labels_to_remove = [\"NULL\", \"E85\", \"GPLc\"]\n",
        "\n",
        "# Filter out the rows containing the two least used labels\n",
        "df_final = df_final.filter(~df_final['gas_label'].isin(labels_to_remove))"
      ]
    },
    {
      "cell_type": "markdown",
      "metadata": {
        "id": "zh6dzObekwot"
      },
      "source": [
        "## Data preparation - Step 2"
      ]
    },
    {
      "cell_type": "markdown",
      "metadata": {
        "id": "1UYPbAU4k_ak"
      },
      "source": [
        "### 1- Compute price index for each station per week"
      ]
    },
    {
      "cell_type": "markdown",
      "source": [
        "For this step I computed the variable `avg_price_france` by grouping the DataFrame df_final based on the values in the \"gas_label\" and \"date\" columns. After grouping, I used the 'agg' function to aggregate the data. It calculates the average 'avg' of the \"price\" column for each group. The result is a new column named \"avg_day_price_france\" containing the average price for each gas label."
      ],
      "metadata": {
        "id": "TTFuSJKKvSY2"
      }
    },
    {
      "cell_type": "code",
      "execution_count": 19,
      "metadata": {
        "id": "DK-g4yWvkTrM",
        "colab": {
          "base_uri": "https://localhost:8080/"
        },
        "outputId": "c22132e9-f0b9-4142-a4da-3e34037d7f5f"
      },
      "outputs": [
        {
          "output_type": "stream",
          "name": "stdout",
          "text": [
            "+---------+----------+--------------------+\n",
            "|gas_label| timestamp|avg_day_price_france|\n",
            "+---------+----------+--------------------+\n",
            "|      E10|2019-01-01|  1410.8494368701838|\n",
            "|   Gazole|2019-01-01|  1424.2279582366589|\n",
            "|     SP98|2019-01-01|  1507.4599348534202|\n",
            "|     SP95|2019-01-01|  1493.2641509433963|\n",
            "|     SP98|2019-01-02|  1478.8105906313647|\n",
            "+---------+----------+--------------------+\n",
            "only showing top 5 rows\n",
            "\n"
          ]
        }
      ],
      "source": [
        "# Calculate the average daily price for each gas type in France\n",
        "avg_price_france = (\n",
        "    df_final\n",
        "    .groupBy(\"gas_label\", \"timestamp\")\n",
        "    .agg(avg(\"price\").alias(\"avg_day_price_france\"))\n",
        "    .orderBy(\"timestamp\")\n",
        ")\n",
        "avg_price_france.show(5)"
      ]
    },
    {
      "cell_type": "code",
      "execution_count": 20,
      "metadata": {
        "id": "v0N4FXVIqmHp",
        "colab": {
          "base_uri": "https://localhost:8080/"
        },
        "outputId": "c18f9f8f-3959-411c-e575-150027ec8aca"
      },
      "outputs": [
        {
          "output_type": "stream",
          "name": "stdout",
          "text": [
            "+---------+----------+-------+--------+---+--------+---------+-------------------+------+------+------+----+--------+----+-----+------------+--------------------+--------------------+\n",
            "|gas_label| timestamp| id_pdv|zip_code|pop|latitude|longitude|               date|gas_id| price|adress|city|services|year|month|week_of_year|avg_day_price_france|         price_index|\n",
            "+---------+----------+-------+--------+---+--------+---------+-------------------+------+------+------+----+--------+----+-----+------------+--------------------+--------------------+\n",
            "|   Gazole|2019-01-07|1000001|    1000|  R|46.20114|  5.19791|2019-01-07 10:25:25|     1|1348.0|  NULL|NULL|    NULL|2019|    1|           2|   1388.583114150447| -1.9226276581417538|\n",
            "|   Gazole|2019-01-04|1000001|    1000|  R|46.20114|  5.19791|2019-01-04 10:53:48|     1|1328.0|  NULL|NULL|    NULL|2019|    1|           1|  1386.5670557146002|  -3.223889170972426|\n",
            "|   Gazole|2019-01-14|1000001|    1000|  R|46.20114|  5.19791|2019-01-14 11:04:53|     1|1394.0|  NULL|NULL|    NULL|2019|    1|           3|  1407.1589618815897| 0.06485605123147542|\n",
            "|   Gazole|2019-01-11|1000001|    1000|  R|46.20114|  5.19791|2019-01-11 10:01:54|     1|1387.0|  NULL|NULL|    NULL|2019|    1|           2|    1401.01008492569|1.136577601590360...|\n",
            "|   Gazole|2019-01-16|1000001|    1000|  R|46.20114|  5.19791|2019-01-16 10:21:21|     1|1394.0|  NULL|NULL|    NULL|2019|    1|           3|    1419.00581915846| -0.7622069494605579|\n",
            "+---------+----------+-------+--------+---+--------+---------+-------------------+------+------+------+----+--------+----+-----+------------+--------------------+--------------------+\n",
            "only showing top 5 rows\n",
            "\n"
          ]
        }
      ],
      "source": [
        "df_final = (\n",
        "    df_final\n",
        "    .join(avg_price_france, on=[\"gas_label\", \"timestamp\"], how=\"left\")\n",
        "    .withColumn('price_index', 100 * ((col(\"price\") - col(\"avg_day_price_france\")) / col(\"avg_day_price_france\")) + 1)\n",
        ")\n",
        "df_final.show(5)"
      ]
    },
    {
      "cell_type": "markdown",
      "metadata": {
        "id": "HZTxfkgxZKI-"
      },
      "source": [
        "This formula calculates the percentage difference between the price at a specific station for a gas type and the average daily price for that gas type in France. The result is multiplied by 100 to express it as a percentage, and 1 is added to the final value."
      ]
    },
    {
      "cell_type": "code",
      "execution_count": 21,
      "metadata": {
        "id": "lzjAbcVw0ira",
        "colab": {
          "base_uri": "https://localhost:8080/"
        },
        "outputId": "99a9ed65-b9fc-4f14-fa31-19ffd4301acf"
      },
      "outputs": [
        {
          "output_type": "stream",
          "name": "stdout",
          "text": [
            "+-------+------------------+\n",
            "|summary|       price_index|\n",
            "+-------+------------------+\n",
            "|  count|          19391495|\n",
            "|   mean|1.0000000000000375|\n",
            "| stddev| 4.883811569550836|\n",
            "|    min|-98.94902330059968|\n",
            "|    max| 498.9728924930767|\n",
            "+-------+------------------+\n",
            "\n"
          ]
        }
      ],
      "source": [
        "df_final.describe('price_index').show()"
      ]
    },
    {
      "cell_type": "markdown",
      "metadata": {
        "id": "_CiAzUWr1QOZ"
      },
      "source": [
        "### 2- Compute week index"
      ]
    },
    {
      "cell_type": "code",
      "execution_count": 22,
      "metadata": {
        "id": "U9xGqWol1Sly"
      },
      "outputs": [],
      "source": [
        "# Calculate the number of weeks since the first week in the file\n",
        "min_week = df_final.selectExpr(\"min(week_of_year)\").collect()[0][0]\n",
        "df_final = df_final.withColumn(\"week_index\", (col(\"year\") - 2019) * 53 + col(\"week_of_year\"))"
      ]
    },
    {
      "cell_type": "code",
      "execution_count": 23,
      "metadata": {
        "id": "EBqgCICTGCRx",
        "colab": {
          "base_uri": "https://localhost:8080/"
        },
        "outputId": "eb9b70a5-f2ac-4970-c7b4-d10a82512453"
      },
      "outputs": [
        {
          "output_type": "stream",
          "name": "stdout",
          "text": [
            "+-------+------------------+\n",
            "|summary|        week_index|\n",
            "+-------+------------------+\n",
            "|  count|          19391495|\n",
            "|   mean|135.26360953603628|\n",
            "| stddev|  76.7031711324586|\n",
            "|    min|                 1|\n",
            "|    max|               264|\n",
            "+-------+------------------+\n",
            "\n"
          ]
        }
      ],
      "source": [
        "df_final.describe('week_index').show()"
      ]
    },
    {
      "cell_type": "markdown",
      "metadata": {
        "id": "Zzuw3H76es3x"
      },
      "source": [
        "## Data Visualization"
      ]
    },
    {
      "cell_type": "markdown",
      "source": [
        "I represented the weekly evolution of average gas price over France."
      ],
      "metadata": {
        "id": "LJxkseRryk2V"
      }
    },
    {
      "cell_type": "code",
      "execution_count": 24,
      "metadata": {
        "id": "nnDPZytuetq9",
        "colab": {
          "base_uri": "https://localhost:8080/"
        },
        "outputId": "b3fdbb0c-9814-4e0b-8a4c-3e32b8b185dc"
      },
      "outputs": [
        {
          "output_type": "stream",
          "name": "stdout",
          "text": [
            "+---------+----------+------------------+\n",
            "|gas_label|week_index|  avg_price_weekly|\n",
            "+---------+----------+------------------+\n",
            "|     SP98|         1| 1518.494630392046|\n",
            "|     SP95|         1|1455.3585618355144|\n",
            "|      E10|         1| 1431.217237308209|\n",
            "|   Gazole|         1| 1424.799673481608|\n",
            "|     SP95|         2|  1424.39989792006|\n",
            "+---------+----------+------------------+\n",
            "only showing top 5 rows\n",
            "\n"
          ]
        }
      ],
      "source": [
        "# Group by gas_label, week_index, and calculate average price for each week\n",
        "avg_price_weekly = (\n",
        "    df_final\n",
        "    .groupBy(\"gas_label\", \"week_index\")\n",
        "    .agg(avg(\"avg_day_price_france\").alias(\"avg_price_weekly\"))\n",
        "    .orderBy(\"week_index\")\n",
        ")\n",
        "avg_price_weekly.show(5)\n",
        "\n",
        "# Convert PySpark DataFrame to Pandas for Seaborn plotting\n",
        "avg_price_weekly_pd = avg_price_weekly.toPandas()"
      ]
    },
    {
      "cell_type": "code",
      "execution_count": 25,
      "metadata": {
        "colab": {
          "base_uri": "https://localhost:8080/",
          "height": 1000
        },
        "id": "g5QstyUn8wtz",
        "outputId": "c7b7bfa9-8b01-4613-e041-e83681614ff4"
      },
      "outputs": [
        {
          "output_type": "display_data",
          "data": {
            "text/plain": [
              "<Figure size 1000x1000 with 4 Axes>"
            ],
            "image/png": "[encoded data removed]"
          },
          "metadata": {}
        }
      ],
      "source": [
        "# Plot using Seaborn FacetGrid\n",
        "sns.set(style=\"whitegrid\")\n",
        "g = sns.FacetGrid(avg_price_weekly_pd, col=\"gas_label\", col_wrap=2, height=5, sharey=False)\n",
        "g.map(plt.plot, \"week_index\", \"avg_price_weekly\", marker=\"o\", linestyle=\"-\")\n",
        "g.set_axis_labels(\"Week Index\", \"Average Price\")\n",
        "g.set_titles(col_template=\"{col_name}\")\n",
        "plt.show()"
      ]
    },
    {
      "cell_type": "markdown",
      "metadata": {
        "id": "zEeu2qT_HOQE"
      },
      "source": [
        "In the plot above we can see that the average price for the different type of gas are quite similar. We can denote the same trend for each of them depending on the week index. These plots seems to be correct. We can see that their are increasing troughout the weeks (the years). Between 2022 and 2023 we denote large variations because of severals factors. The inflations, the price of the barrel of oil, the war between Ukraine and Russia and others several aspects."
      ]
    },
    {
      "cell_type": "code",
      "execution_count": 26,
      "metadata": {
        "colab": {
          "base_uri": "https://localhost:8080/"
        },
        "id": "f9XmYJvfHwJE",
        "outputId": "517fde1b-fbed-493f-8312-18b9e725d84f"
      },
      "outputs": [
        {
          "output_type": "stream",
          "name": "stdout",
          "text": [
            "+---------+----------+----------+-------+--------+---+--------+---------+-------------------+------+------+------+----+--------+----+-----+------------+--------------------+--------------------+------------------+\n",
            "|gas_label|week_index| timestamp| id_pdv|zip_code|pop|latitude|longitude|               date|gas_id| price|adress|city|services|year|month|week_of_year|avg_day_price_france|         price_index|  avg_price_weekly|\n",
            "+---------+----------+----------+-------+--------+---+--------+---------+-------------------+------+------+------+----+--------+----+-----+------------+--------------------+--------------------+------------------+\n",
            "|   Gazole|         2|2019-01-07|1000001|    1000|  R|46.20114|  5.19791|2019-01-07 10:25:25|     1|1348.0|  NULL|NULL|    NULL|2019|    1|           2|   1388.583114150447| -1.9226276581417538|1399.0902171156054|\n",
            "|   Gazole|         2|2019-01-11|1000001|    1000|  R|46.20114|  5.19791|2019-01-11 10:01:54|     1|1387.0|  NULL|NULL|    NULL|2019|    1|           2|    1401.01008492569|1.136577601590360...|1399.0902171156054|\n",
            "|   Gazole|         2|2019-01-10|1000001|    1000|  R|46.20114|  5.19791|2019-01-10 08:54:28|     1|1374.0|  NULL|NULL|    NULL|2019|    1|           2|  1399.1258158901644| -0.7958224774931075|1399.0902171156054|\n",
            "|   Gazole|         3|2019-01-14|1000001|    1000|  R|46.20114|  5.19791|2019-01-14 11:04:53|     1|1394.0|  NULL|NULL|    NULL|2019|    1|           3|  1407.1589618815897| 0.06485605123147542|1417.6400794365804|\n",
            "|   Gazole|         3|2019-01-16|1000001|    1000|  R|46.20114|  5.19791|2019-01-16 10:21:21|     1|1394.0|  NULL|NULL|    NULL|2019|    1|           3|    1419.00581915846| -0.7622069494605579|1417.6400794365804|\n",
            "+---------+----------+----------+-------+--------+---+--------+---------+-------------------+------+------+------+----+--------+----+-----+------------+--------------------+--------------------+------------------+\n",
            "only showing top 5 rows\n",
            "\n"
          ]
        }
      ],
      "source": [
        "df_final = (\n",
        "    df_final\n",
        "    .join(avg_price_weekly, on=[\"gas_label\", \"week_index\"], how=\"left\")\n",
        ")\n",
        "df_final.show(5)"
      ]
    },
    {
      "cell_type": "markdown",
      "metadata": {
        "id": "xevAhXUDHX99"
      },
      "source": [
        "## Modeling – Forecast next day price"
      ]
    },
    {
      "cell_type": "markdown",
      "metadata": {
        "id": "C7sBCy2WLZrb"
      },
      "source": [
        "Target variable (y): `price`\n",
        "\n",
        "Variables to be used as predictors:\n",
        "* Lagged Prices\n",
        "* id pdv\n",
        "* gas_label (removed since it doesn't work because of java heap out of memory)\n",
        "* week_index\n",
        "* gas_id\n",
        "* average_day_france\n",
        "* price_index (removed since it doesn't work because of java heap out of memory)"
      ]
    },
    {
      "cell_type": "code",
      "execution_count": 27,
      "metadata": {
        "id": "J9hwkAoBkWJ-"
      },
      "outputs": [],
      "source": [
        "from pyspark.ml.feature import VectorAssembler\n",
        "from pyspark.ml.regression import LinearRegression\n",
        "from pyspark.ml import Pipeline\n",
        "from pyspark.ml.evaluation import RegressionEvaluator\n",
        "from pyspark.sql import functions as F\n",
        "from pyspark.sql.window import Window\n",
        "from pyspark.ml.feature import StringIndexer, OneHotEncoder, Imputer"
      ]
    },
    {
      "cell_type": "code",
      "execution_count": 28,
      "metadata": {
        "id": "8ItOuqE9kDmo"
      },
      "outputs": [],
      "source": [
        "# Define the lag window specification\n",
        "lag_window = Window.partitionBy(\"gas_label\").orderBy(\"date\")\n",
        "\n",
        "# Include lag features for the last three days\n",
        "for i in range(1, 3):\n",
        "    lag_col = f\"lag_price_{i}\"\n",
        "    df_final = df_final.withColumn(lag_col, F.lag(col(\"price\"), i).over(lag_window))"
      ]
    },
    {
      "cell_type": "markdown",
      "metadata": {
        "id": "eXPHmG7aqzPv"
      },
      "source": [
        "This code creates lag features (\"lag_price_1\", \"lag_price_2\") based on the \"price\" column for the last two days.\n",
        "\n",
        "I added the new columns to the dataFrame called 'lag_price_i'. The `lag` function is used to get the value of the column 'price' in the previous row. It looks back '$i$' rows where '$i$' is the lag value.\n",
        "\n",
        "By including lag features, the model should be better to capture the next day price for a gas type in a station."
      ]
    },
    {
      "cell_type": "code",
      "execution_count": 29,
      "metadata": {
        "colab": {
          "base_uri": "https://localhost:8080/"
        },
        "id": "cF5unHDllIfR",
        "outputId": "a689fe1a-6882-49d5-a858-c8d62d9a28a5"
      },
      "outputs": [
        {
          "output_type": "stream",
          "name": "stdout",
          "text": [
            "root\n",
            " |-- gas_label: string (nullable = true)\n",
            " |-- week_index: integer (nullable = true)\n",
            " |-- timestamp: date (nullable = true)\n",
            " |-- id_pdv: integer (nullable = true)\n",
            " |-- zip_code: integer (nullable = true)\n",
            " |-- pop: string (nullable = true)\n",
            " |-- latitude: double (nullable = true)\n",
            " |-- longitude: double (nullable = true)\n",
            " |-- date: timestamp (nullable = true)\n",
            " |-- gas_id: integer (nullable = true)\n",
            " |-- price: double (nullable = true)\n",
            " |-- adress: string (nullable = true)\n",
            " |-- city: string (nullable = true)\n",
            " |-- services: string (nullable = true)\n",
            " |-- year: integer (nullable = true)\n",
            " |-- month: integer (nullable = true)\n",
            " |-- week_of_year: integer (nullable = true)\n",
            " |-- avg_day_price_france: double (nullable = true)\n",
            " |-- price_index: double (nullable = true)\n",
            " |-- avg_price_weekly: double (nullable = true)\n",
            " |-- lag_price_1: double (nullable = true)\n",
            " |-- lag_price_2: double (nullable = true)\n",
            "\n"
          ]
        }
      ],
      "source": [
        "df_final.printSchema()"
      ]
    },
    {
      "cell_type": "markdown",
      "source": [
        "I then converted the columns from double to integer because integer values typically require less memory compared to double-precision floating-point values. But the downside is that we can loose precision when evaluating the model."
      ],
      "metadata": {
        "id": "nqQ1NWCiHwim"
      }
    },
    {
      "cell_type": "code",
      "source": [
        "# Convert columns from double to integer\n",
        "df_final = df_final.withColumn(\"price\", col(\"price\").cast(\"integer\"))\n",
        "df_final = df_final.withColumn(\"lag_price_1\", col(\"lag_price_1\").cast(\"integer\"))\n",
        "df_final = df_final.withColumn(\"lag_price_2\", col(\"lag_price_2\").cast(\"integer\"))\n",
        "df_final = df_final.withColumn(\"avg_day_price_france\", col(\"avg_day_price_france\").cast(\"integer\"))\n",
        "df_final = df_final.withColumn(\"avg_price_weekly\", col(\"avg_price_weekly\").cast(\"integer\"))"
      ],
      "metadata": {
        "id": "vCbb7RTfadPP"
      },
      "execution_count": 30,
      "outputs": []
    },
    {
      "cell_type": "code",
      "source": [
        "# Round the values in the columns below to two decimal places\n",
        "df_final = df_final.withColumn(\"price_index\", round(col(\"price_index\"), 2))"
      ],
      "metadata": {
        "id": "wWh0eqcdTIH9"
      },
      "execution_count": 31,
      "outputs": []
    },
    {
      "cell_type": "code",
      "source": [
        "df_final.printSchema()"
      ],
      "metadata": {
        "colab": {
          "base_uri": "https://localhost:8080/"
        },
        "id": "Gn2_hLKFjrZq",
        "outputId": "71b9f61e-3968-4a81-b571-af329fbcc3e4"
      },
      "execution_count": 32,
      "outputs": [
        {
          "output_type": "stream",
          "name": "stdout",
          "text": [
            "root\n",
            " |-- gas_label: string (nullable = true)\n",
            " |-- week_index: integer (nullable = true)\n",
            " |-- timestamp: date (nullable = true)\n",
            " |-- id_pdv: integer (nullable = true)\n",
            " |-- zip_code: integer (nullable = true)\n",
            " |-- pop: string (nullable = true)\n",
            " |-- latitude: double (nullable = true)\n",
            " |-- longitude: double (nullable = true)\n",
            " |-- date: timestamp (nullable = true)\n",
            " |-- gas_id: integer (nullable = true)\n",
            " |-- price: integer (nullable = true)\n",
            " |-- adress: string (nullable = true)\n",
            " |-- city: string (nullable = true)\n",
            " |-- services: string (nullable = true)\n",
            " |-- year: integer (nullable = true)\n",
            " |-- month: integer (nullable = true)\n",
            " |-- week_of_year: integer (nullable = true)\n",
            " |-- avg_day_price_france: integer (nullable = true)\n",
            " |-- price_index: double (nullable = true)\n",
            " |-- avg_price_weekly: integer (nullable = true)\n",
            " |-- lag_price_1: integer (nullable = true)\n",
            " |-- lag_price_2: integer (nullable = true)\n",
            "\n"
          ]
        }
      ]
    },
    {
      "cell_type": "markdown",
      "metadata": {
        "id": "s2HF8sV9o4g1"
      },
      "source": [
        "All the columns have nullable = true meaning that the corresponding column in my dataFrame allows null values."
      ]
    },
    {
      "cell_type": "markdown",
      "metadata": {
        "id": "a6A8ERdNkEIT"
      },
      "source": [
        "Drop rows which contain missing values :"
      ]
    },
    {
      "cell_type": "code",
      "execution_count": 33,
      "metadata": {
        "colab": {
          "base_uri": "https://localhost:8080/"
        },
        "id": "U2C2hhpDmBkJ",
        "outputId": "5d72fac7-f3d3-428d-d8ea-8c085ff55dbd"
      },
      "outputs": [
        {
          "output_type": "stream",
          "name": "stdout",
          "text": [
            "+---------+----------+----------+-------+--------+---+-----------------+-----------------+-------------------+------+-----+--------------------+--------------------+--------------------+----+-----+------------+--------------------+-----------+----------------+-----------+-----------+\n",
            "|gas_label|week_index| timestamp| id_pdv|zip_code|pop|         latitude|        longitude|               date|gas_id|price|              adress|                city|            services|year|month|week_of_year|avg_day_price_france|price_index|avg_price_weekly|lag_price_1|lag_price_2|\n",
            "+---------+----------+----------+-------+--------+---+-----------------+-----------------+-------------------+------+-----+--------------------+--------------------+--------------------+----+-----+------------+--------------------+-----------+----------------+-----------+-----------+\n",
            "|      E10|         1|2019-01-01|1000013|    1000|  R|    46.1985183794|5.243506378809999|2019-01-01 00:01:00|     5| 1319|BOULEVARD CHARLES...|     Bourg-en-Bresse|Carburant additiv...|2019|    1|           1|                1410|      -5.51|            1431|       1319|       1483|\n",
            "|      E10|         1|2019-01-01|1130003|    1130|  R|           46.158|            5.604|2019-01-01 00:01:00|     5| 1349|RTE DE LA CLUSE R...|              NANTUA|Boutique alimenta...|2019|    1|           1|                1410|      -3.38|            1431|       1419|       1319|\n",
            "|      E10|         1|2019-01-01|2200014|    2200|  R|           49.368|            3.329|2019-01-01 00:01:00|     5| 1419|50 BIS ROUTE DE C...|            SOISSONS|Relais colis,Bout...|2019|    1|           1|                1410|       1.58|            1431|       1424|       1333|\n",
            "|      E10|         1|2019-01-01|2200015|    2200|  R|           49.371|            3.341|2019-01-01 00:01:00|     5| 1332|9 ET 11 RUE DE VI...|            SOISSONS|Boutique alimenta...|2019|    1|           1|                1410|      -4.59|            1431|       1419|       1424|\n",
            "|      E10|         1|2019-01-01|3630003|    3630|  R|           46.345|            2.619|2019-01-01 00:01:00|     5| 1346|12 RUE AMBROISE C...|          DESERTINES|Relais colis,Bout...|2019|    1|           1|                1410|       -3.6|            1431|       1355|       1332|\n",
            "|      E10|         1|2019-01-01|4160004|    4160|  R|           44.088|            6.009|2019-01-01 00:01:00|     5| 1366|LE BELVEDERE - RN 96|Château-Arnoux-Sa...|Relais colis,Bout...|2019|    1|           1|                1410|      -2.18|            1431|       1346|       1355|\n",
            "|      E10|         1|2019-01-01|6000026|    6300|  R|           43.707|            7.292|2019-01-01 00:01:00|     5| 1434|10 BOULEVARD ARME...|                NICE|Boutique alimenta...|2019|    1|           1|                1410|       2.64|            1431|       1347|       1366|\n",
            "|      E10|         1|2019-01-01|6000029|    6000|  R|           43.728|            7.282|2019-01-01 00:01:00|     5| 1374|   57, av. J.RAYBAUD|                NICE|Boutique alimenta...|2019|    1|           1|                1410|      -1.61|            1431|       1444|       1434|\n",
            "|      E10|         1|2019-01-01|6110009|    6110|  R|           43.562|            6.967|2019-01-01 00:01:00|     5| 1339|BOULEVARD JEAN MO...|           LE CANNET|Boutique non alim...|2019|    1|           1|                1410|      -4.09|            1431|       1374|       1444|\n",
            "|      E10|         1|2019-01-01|6200027|    6200|  R|43.68801625970001|7.197364288269999|2019-01-01 00:01:00|     5| 1322|280 ROUTE DE GREN...|                NICE|Boutique alimenta...|2019|    1|           1|                1410|       -5.3|            1431|       1349|       1451|\n",
            "|      E10|         1|2019-01-01|6200028|    6200|  R|           43.675|            7.227|2019-01-01 00:01:00|     5| 1364|PROMENADE DES ANG...|                NICE|Boutique alimenta...|2019|    1|           1|                1410|      -2.32|            1431|       1322|       1349|\n",
            "|      E10|         1|2019-01-01|6400010|    6400|  R|         43.55857|          7.00235|2019-01-01 00:01:00|     5| 1457|       57 BD DU RIOU|              CANNES|Boutique alimenta...|2019|    1|           1|                1410|       4.27|            1431|       1449|       1480|\n",
            "|      E10|         1|2019-01-01|6600022|    6600|  R|           43.589|             7.12|2019-01-01 00:01:00|     5| 1450|    2 AVENUE DE NICE|             ANTIBES|Toilettes publiqu...|2019|    1|           1|                1410|       3.77|            1431|       1457|       1449|\n",
            "|      E10|         1|2019-01-01|6600024|    6600|  R|         43.59874|          7.08726|2019-01-01 00:01:00|     5| 1344|RD 35 1856 RTE DE...|             ANTIBES|Boutique alimenta...|2019|    1|           1|                1410|      -3.74|            1431|       1450|       1457|\n",
            "|      E10|         1|2019-01-01|6670007|    6670|  R|            43.76|              7.2|2019-01-01 00:01:00|     5| 1325|             RD 6202|            COLOMARS|Boutique alimenta...|2019|    1|           1|                1410|      -5.08|            1431|       1344|       1450|\n",
            "|      E10|         1|2019-01-01|6700006|    6700|  R|         43.66868|          7.19193|2019-01-01 00:01:00|     5| 1450|702 AVENUE DU GEN...|Saint-Laurent-du-Var|Toilettes publiqu...|2019|    1|           1|                1410|       3.77|            1431|       1325|       1344|\n",
            "|      E10|         1|2019-01-01|6770002|    6770|  R|    43.7666750087|    7.20105991068|2019-01-01 00:01:00|     5| 1325|Z.I. LA MANDA LIE...|           GATTIERES|Boutique alimenta...|2019|    1|           1|                1410|      -5.08|            1431|       1450|       1325|\n",
            "|      E10|         1|2019-01-01|6800018|    6800|  R|         43.66223|          7.14933|2019-01-01 00:01:00|     5| 1452|81 AV. DE LA GARE...|      Cagnes-sur-Mer|Boutique alimenta...|2019|    1|           1|                1410|       3.92|            1431|       1449|       1325|\n",
            "|      E10|         1|2019-01-01|7200008|    7200|  R|    44.6320217749|    4.37986312289|2019-01-01 00:01:00|     5| 1309|         RTE DE VALS|             AUBENAS|Boutique alimenta...|2019|    1|           1|                1410|      -6.22|            1431|       1334|       1452|\n",
            "|      E10|         1|2019-01-01|7300006|    7300|  R|    45.0570643467|    4.84009467939|2019-01-01 00:01:00|     5| 1452|55 AVENUE DE NIME...|   Tournon-sur-Rhône|Toilettes publiqu...|2019|    1|           1|                1410|       3.92|            1431|       1309|       1334|\n",
            "+---------+----------+----------+-------+--------+---+-----------------+-----------------+-------------------+------+-----+--------------------+--------------------+--------------------+----+-----+------------+--------------------+-----------+----------------+-----------+-----------+\n",
            "only showing top 20 rows\n",
            "\n"
          ]
        }
      ],
      "source": [
        "# Drop rows with missing values\n",
        "df_final = df_final.na.drop()\n",
        "df_final.show()"
      ]
    },
    {
      "cell_type": "markdown",
      "source": [
        "The code below is part of a feature engineering process for preparing the features for the machine learning model. I used the function `StringIndexer` that converts the categorical column 'gas_label' (string) into a numerical index and outputs the result in a new column called 'gas_label_index'.\n",
        "\n",
        "`One-hot encoding` is used to convert categorical indices obtained from the String Indexer into binary vectors. For each distinct value in the categorical column, a binary column is created, indicating the presence or absence of that value.\n",
        "\n",
        "The `VectorAssembler` takes the specified input columns (both numerical and one-hot encoded) and combines them into a single vector column named 'features'. This 'features' column will be the input to my model."
      ],
      "metadata": {
        "id": "KGTJrOWID4SG"
      }
    },
    {
      "cell_type": "code",
      "execution_count": 34,
      "metadata": {
        "id": "nfCXv8MnC5C8"
      },
      "outputs": [],
      "source": [
        "# 1. Feature Vectorization\n",
        "\n",
        "# String indexer: string -> number\n",
        "# OneHotEncoder: number -> set of columns\n",
        "# Imputer: replace missing values\n",
        "\n",
        "# gas_label_indexer = StringIndexer(inputCol='gas_label', outputCol='gas_label_index')\n",
        "# gas_label_encoder = OneHotEncoder(inputCol='gas_label_index', outputCol='gas_label_onehot')\n",
        "# id_pdv_encoder = OneHotEncoder(inputCol='id_pdv', outputCol='id_pdv_onehot')\n",
        "# gas_id_encoder = OneHotEncoder(inputCol='gas_id', outputCol='gas_id_onehot')\n",
        "\n",
        "gas_id_encoder = OneHotEncoder(inputCol='gas_id', outputCol='gas_id_onehot')\n",
        "\n",
        "feature_columns = [\"lag_price_1\", \"lag_price_2\", \"id_pdv\", \"gas_id_onehot\",\n",
        "                   \"week_index\", \"avg_day_price_france\"\n",
        "                  ]\n",
        "op_features = VectorAssembler(inputCols=feature_columns, outputCol='features')"
      ]
    },
    {
      "cell_type": "markdown",
      "source": [
        "I had problems with Java heap space which was out of memory. I struggled a lot to resolve this error. This was solve by reducing the amount of data in the dataframes by deleting the rows which contained NULL values. Moreover, instead of using the whole columns of the `df_final` dataframe for fitting the model, I used only the relevant features such as `lag_features`, `average_day_price` etc...\n",
        "Finally, in the first part of the notebook where I start the construction of a Spark session, I wrote this line:\n",
        "```\n",
        ".config(\"spark.executor.memory\", \"4g\")\n",
        "```\n",
        "This line of code allows to increase the amount of memory allocated to the Spark driver."
      ],
      "metadata": {
        "id": "MUbwBaQorAfS"
      }
    },
    {
      "cell_type": "markdown",
      "source": [
        "Now, this part is for training the model. I splitted the data into train set and test set and I used linear Regression to  to forecast the next day price for a gas type."
      ],
      "metadata": {
        "id": "0eAwnvaFrPRy"
      }
    },
    {
      "cell_type": "code",
      "execution_count": 35,
      "metadata": {
        "colab": {
          "base_uri": "https://localhost:8080/",
          "height": 1000
        },
        "id": "hWMEz7YJ61gP",
        "outputId": "b3cfb813-fa69-4d2a-d1dc-24062231a367"
      },
      "outputs": [
        {
          "output_type": "error",
          "ename": "Py4JJavaError",
          "evalue": "An error occurred while calling o324.fit.\n: org.apache.spark.SparkException: Job aborted due to stage failure: Task 2 in stage 192.0 failed 1 times, most recent failure: Lost task 2.0 in stage 192.0 (TID 1394) (0a560ce1891b executor driver): java.lang.OutOfMemoryError: Java heap space\n\tat org.apache.spark.util.collection.unsafe.sort.UnsafeSorterSpillReader.<init>(UnsafeSorterSpillReader.java:50)\n\tat org.apache.spark.util.collection.unsafe.sort.UnsafeSorterSpillWriter.getReader(UnsafeSorterSpillWriter.java:159)\n\tat org.apache.spark.util.collection.unsafe.sort.UnsafeExternalSorter.getSortedIterator(UnsafeExternalSorter.java:555)\n\tat org.apache.spark.sql.execution.UnsafeExternalRowSorter.sort(UnsafeExternalRowSorter.java:172)\n\tat org.apache.spark.sql.catalyst.expressions.GeneratedClass$GeneratedIteratorForCodegenStage43.processNext(Unknown Source)\n\tat org.apache.spark.sql.execution.BufferedRowIterator.hasNext(BufferedRowIterator.java:43)\n\tat org.apache.spark.sql.execution.WholeStageCodegenEvaluatorFactory$WholeStageCodegenPartitionEvaluator$$anon$1.hasNext(WholeStageCodegenEvaluatorFactory.scala:43)\n\tat org.apache.spark.sql.execution.window.WindowExec$$anon$1.fetchNextRow(WindowExec.scala:118)\n\tat org.apache.spark.sql.execution.window.WindowExec$$anon$1.<init>(WindowExec.scala:127)\n\tat org.apache.spark.sql.execution.window.WindowExec.$anonfun$doExecute$3(WindowExec.scala:107)\n\tat org.apache.spark.sql.execution.window.WindowExec$$Lambda$4790/0x00000008417e2840.apply(Unknown Source)\n\tat org.apache.spark.rdd.RDD.$anonfun$mapPartitions$2(RDD.scala:855)\n\tat org.apache.spark.rdd.RDD.$anonfun$mapPartitions$2$adapted(RDD.scala:855)\n\tat org.apache.spark.rdd.RDD$$Lambda$2978/0x00000008412c6c40.apply(Unknown Source)\n\tat org.apache.spark.rdd.MapPartitionsRDD.compute(MapPartitionsRDD.scala:52)\n\tat org.apache.spark.rdd.RDD.computeOrReadCheckpoint(RDD.scala:364)\n\tat org.apache.spark.rdd.RDD.iterator(RDD.scala:328)\n\tat org.apache.spark.rdd.MapPartitionsRDD.compute(MapPartitionsRDD.scala:52)\n\tat org.apache.spark.rdd.RDD.computeOrReadCheckpoint(RDD.scala:364)\n\tat org.apache.spark.rdd.RDD.iterator(RDD.scala:328)\n\tat org.apache.spark.rdd.MapPartitionsRDD.compute(MapPartitionsRDD.scala:52)\n\tat org.apache.spark.rdd.RDD.computeOrReadCheckpoint(RDD.scala:364)\n\tat org.apache.spark.rdd.RDD.iterator(RDD.scala:328)\n\tat org.apache.spark.sql.execution.SQLExecutionRDD.$anonfun$compute$1(SQLExecutionRDD.scala:52)\n\tat org.apache.spark.sql.execution.SQLExecutionRDD$$Lambda$2992/0x00000008412fac40.apply(Unknown Source)\n\tat org.apache.spark.sql.internal.SQLConf$.withExistingConf(SQLConf.scala:158)\n\tat org.apache.spark.sql.execution.SQLExecutionRDD.compute(SQLExecutionRDD.scala:52)\n\tat org.apache.spark.rdd.RDD.computeOrReadCheckpoint(RDD.scala:364)\n\tat org.apache.spark.rdd.RDD.iterator(RDD.scala:328)\n\tat org.apache.spark.rdd.MapPartitionsRDD.compute(MapPartitionsRDD.scala:52)\n\tat org.apache.spark.rdd.RDD.computeOrReadCheckpoint(RDD.scala:364)\n\tat org.apache.spark.rdd.RDD.iterator(RDD.scala:328)\n\nDriver stacktrace:\n\tat org.apache.spark.scheduler.DAGScheduler.failJobAndIndependentStages(DAGScheduler.scala:2844)\n\tat org.apache.spark.scheduler.DAGScheduler.$anonfun$abortStage$2(DAGScheduler.scala:2780)\n\tat org.apache.spark.scheduler.DAGScheduler.$anonfun$abortStage$2$adapted(DAGScheduler.scala:2779)\n\tat scala.collection.mutable.ResizableArray.foreach(ResizableArray.scala:62)\n\tat scala.collection.mutable.ResizableArray.foreach$(ResizableArray.scala:55)\n\tat scala.collection.mutable.ArrayBuffer.foreach(ArrayBuffer.scala:49)\n\tat org.apache.spark.scheduler.DAGScheduler.abortStage(DAGScheduler.scala:2779)\n\tat org.apache.spark.scheduler.DAGScheduler.$anonfun$handleTaskSetFailed$1(DAGScheduler.scala:1242)\n\tat org.apache.spark.scheduler.DAGScheduler.$anonfun$handleTaskSetFailed$1$adapted(DAGScheduler.scala:1242)\n\tat scala.Option.foreach(Option.scala:407)\n\tat org.apache.spark.scheduler.DAGScheduler.handleTaskSetFailed(DAGScheduler.scala:1242)\n\tat org.apache.spark.scheduler.DAGSchedulerEventProcessLoop.doOnReceive(DAGScheduler.scala:3048)\n\tat org.apache.spark.scheduler.DAGSchedulerEventProcessLoop.onReceive(DAGScheduler.scala:2982)\n\tat org.apache.spark.scheduler.DAGSchedulerEventProcessLoop.onReceive(DAGScheduler.scala:2971)\n\tat org.apache.spark.util.EventLoop$$anon$1.run(EventLoop.scala:49)\n\tat org.apache.spark.scheduler.DAGScheduler.runJob(DAGScheduler.scala:984)\n\tat org.apache.spark.SparkContext.runJob(SparkContext.scala:2398)\n\tat org.apache.spark.SparkContext.runJob(SparkContext.scala:2493)\n\tat org.apache.spark.rdd.RDD.$anonfun$fold$1(RDD.scala:1199)\n\tat org.apache.spark.rdd.RDDOperationScope$.withScope(RDDOperationScope.scala:151)\n\tat org.apache.spark.rdd.RDDOperationScope$.withScope(RDDOperationScope.scala:112)\n\tat org.apache.spark.rdd.RDD.withScope(RDD.scala:407)\n\tat org.apache.spark.rdd.RDD.fold(RDD.scala:1193)\n\tat org.apache.spark.rdd.RDD.$anonfun$treeAggregate$2(RDD.scala:1286)\n\tat org.apache.spark.rdd.RDDOperationScope$.withScope(RDDOperationScope.scala:151)\n\tat org.apache.spark.rdd.RDDOperationScope$.withScope(RDDOperationScope.scala:112)\n\tat org.apache.spark.rdd.RDD.withScope(RDD.scala:407)\n\tat org.apache.spark.rdd.RDD.treeAggregate(RDD.scala:1253)\n\tat org.apache.spark.rdd.RDD.$anonfun$treeAggregate$1(RDD.scala:1239)\n\tat org.apache.spark.rdd.RDDOperationScope$.withScope(RDDOperationScope.scala:151)\n\tat org.apache.spark.rdd.RDDOperationScope$.withScope(RDDOperationScope.scala:112)\n\tat org.apache.spark.rdd.RDD.withScope(RDD.scala:407)\n\tat org.apache.spark.rdd.RDD.treeAggregate(RDD.scala:1239)\n\tat org.apache.spark.ml.feature.OneHotEncoderCommon$.getOutputAttrGroupFromData(OneHotEncoder.scala:521)\n\tat org.apache.spark.ml.feature.OneHotEncoder.fit(OneHotEncoder.scala:196)\n\tat org.apache.spark.ml.feature.OneHotEncoder.fit(OneHotEncoder.scala:128)\n\tat java.base/jdk.internal.reflect.NativeMethodAccessorImpl.invoke0(Native Method)\n\tat java.base/jdk.internal.reflect.NativeMethodAccessorImpl.invoke(NativeMethodAccessorImpl.java:62)\n\tat java.base/jdk.internal.reflect.DelegatingMethodAccessorImpl.invoke(DelegatingMethodAccessorImpl.java:43)\n\tat java.base/java.lang.reflect.Method.invoke(Method.java:566)\n\tat py4j.reflection.MethodInvoker.invoke(MethodInvoker.java:244)\n\tat py4j.reflection.ReflectionEngine.invoke(ReflectionEngine.java:374)\n\tat py4j.Gateway.invoke(Gateway.java:282)\n\tat py4j.commands.AbstractCommand.invokeMethod(AbstractCommand.java:132)\n\tat py4j.commands.CallCommand.execute(CallCommand.java:79)\n\tat py4j.ClientServerConnection.waitForCommands(ClientServerConnection.java:182)\n\tat py4j.ClientServerConnection.run(ClientServerConnection.java:106)\n\tat java.base/java.lang.Thread.run(Thread.java:829)\nCaused by: java.lang.OutOfMemoryError: Java heap space\n\tat org.apache.spark.util.collection.unsafe.sort.UnsafeSorterSpillReader.<init>(UnsafeSorterSpillReader.java:50)\n\tat org.apache.spark.util.collection.unsafe.sort.UnsafeSorterSpillWriter.getReader(UnsafeSorterSpillWriter.java:159)\n\tat org.apache.spark.util.collection.unsafe.sort.UnsafeExternalSorter.getSortedIterator(UnsafeExternalSorter.java:555)\n\tat org.apache.spark.sql.execution.UnsafeExternalRowSorter.sort(UnsafeExternalRowSorter.java:172)\n\tat org.apache.spark.sql.catalyst.expressions.GeneratedClass$GeneratedIteratorForCodegenStage43.processNext(Unknown Source)\n\tat org.apache.spark.sql.execution.BufferedRowIterator.hasNext(BufferedRowIterator.java:43)\n\tat org.apache.spark.sql.execution.WholeStageCodegenEvaluatorFactory$WholeStageCodegenPartitionEvaluator$$anon$1.hasNext(WholeStageCodegenEvaluatorFactory.scala:43)\n\tat org.apache.spark.sql.execution.window.WindowExec$$anon$1.fetchNextRow(WindowExec.scala:118)\n\tat org.apache.spark.sql.execution.window.WindowExec$$anon$1.<init>(WindowExec.scala:127)\n\tat org.apache.spark.sql.execution.window.WindowExec.$anonfun$doExecute$3(WindowExec.scala:107)\n\tat org.apache.spark.sql.execution.window.WindowExec$$Lambda$4790/0x00000008417e2840.apply(Unknown Source)\n\tat org.apache.spark.rdd.RDD.$anonfun$mapPartitions$2(RDD.scala:855)\n\tat org.apache.spark.rdd.RDD.$anonfun$mapPartitions$2$adapted(RDD.scala:855)\n\tat org.apache.spark.rdd.RDD$$Lambda$2978/0x00000008412c6c40.apply(Unknown Source)\n\tat org.apache.spark.rdd.MapPartitionsRDD.compute(MapPartitionsRDD.scala:52)\n\tat org.apache.spark.rdd.RDD.computeOrReadCheckpoint(RDD.scala:364)\n\tat org.apache.spark.rdd.RDD.iterator(RDD.scala:328)\n\tat org.apache.spark.rdd.MapPartitionsRDD.compute(MapPartitionsRDD.scala:52)\n\tat org.apache.spark.rdd.RDD.computeOrReadCheckpoint(RDD.scala:364)\n\tat org.apache.spark.rdd.RDD.iterator(RDD.scala:328)\n\tat org.apache.spark.rdd.MapPartitionsRDD.compute(MapPartitionsRDD.scala:52)\n\tat org.apache.spark.rdd.RDD.computeOrReadCheckpoint(RDD.scala:364)\n\tat org.apache.spark.rdd.RDD.iterator(RDD.scala:328)\n\tat org.apache.spark.sql.execution.SQLExecutionRDD.$anonfun$compute$1(SQLExecutionRDD.scala:52)\n\tat org.apache.spark.sql.execution.SQLExecutionRDD$$Lambda$2992/0x00000008412fac40.apply(Unknown Source)\n\tat org.apache.spark.sql.internal.SQLConf$.withExistingConf(SQLConf.scala:158)\n\tat org.apache.spark.sql.execution.SQLExecutionRDD.compute(SQLExecutionRDD.scala:52)\n\tat org.apache.spark.rdd.RDD.computeOrReadCheckpoint(RDD.scala:364)\n\tat org.apache.spark.rdd.RDD.iterator(RDD.scala:328)\n\tat org.apache.spark.rdd.MapPartitionsRDD.compute(MapPartitionsRDD.scala:52)\n\tat org.apache.spark.rdd.RDD.computeOrReadCheckpoint(RDD.scala:364)\n\tat org.apache.spark.rdd.RDD.iterator(RDD.scala:328)\n",
          "traceback": [
            "\u001b[0;31m---------------------------------------------------------------------------\u001b[0m",
            "\u001b[0;31mPy4JJavaError\u001b[0m                             Traceback (most recent call last)",
            "\u001b[0;32m<ipython-input-35-67d8b7c44659>\u001b[0m in \u001b[0;36m<cell line: 16>\u001b[0;34m()\u001b[0m\n\u001b[1;32m     14\u001b[0m \u001b[0;34m\u001b[0m\u001b[0m\n\u001b[1;32m     15\u001b[0m \u001b[0;31m# Train the model\u001b[0m\u001b[0;34m\u001b[0m\u001b[0;34m\u001b[0m\u001b[0m\n\u001b[0;32m---> 16\u001b[0;31m \u001b[0mmodel\u001b[0m \u001b[0;34m=\u001b[0m \u001b[0mpipeline\u001b[0m\u001b[0;34m.\u001b[0m\u001b[0mfit\u001b[0m\u001b[0;34m(\u001b[0m\u001b[0mtrain_data\u001b[0m\u001b[0;34m)\u001b[0m\u001b[0;34m\u001b[0m\u001b[0;34m\u001b[0m\u001b[0m\n\u001b[0m\u001b[1;32m     17\u001b[0m \u001b[0;34m\u001b[0m\u001b[0m\n\u001b[1;32m     18\u001b[0m \u001b[0;31m# We can look what inside the pipeline\u001b[0m\u001b[0;34m\u001b[0m\u001b[0;34m\u001b[0m\u001b[0m\n",
            "\u001b[0;32m/usr/local/lib/python3.10/dist-packages/pyspark/ml/base.py\u001b[0m in \u001b[0;36mfit\u001b[0;34m(self, dataset, params)\u001b[0m\n\u001b[1;32m    203\u001b[0m                 \u001b[0;32mreturn\u001b[0m \u001b[0mself\u001b[0m\u001b[0;34m.\u001b[0m\u001b[0mcopy\u001b[0m\u001b[0;34m(\u001b[0m\u001b[0mparams\u001b[0m\u001b[0;34m)\u001b[0m\u001b[0;34m.\u001b[0m\u001b[0m_fit\u001b[0m\u001b[0;34m(\u001b[0m\u001b[0mdataset\u001b[0m\u001b[0;34m)\u001b[0m\u001b[0;34m\u001b[0m\u001b[0;34m\u001b[0m\u001b[0m\n\u001b[1;32m    204\u001b[0m             \u001b[0;32melse\u001b[0m\u001b[0;34m:\u001b[0m\u001b[0;34m\u001b[0m\u001b[0;34m\u001b[0m\u001b[0m\n\u001b[0;32m--> 205\u001b[0;31m                 \u001b[0;32mreturn\u001b[0m \u001b[0mself\u001b[0m\u001b[0;34m.\u001b[0m\u001b[0m_fit\u001b[0m\u001b[0;34m(\u001b[0m\u001b[0mdataset\u001b[0m\u001b[0;34m)\u001b[0m\u001b[0;34m\u001b[0m\u001b[0;34m\u001b[0m\u001b[0m\n\u001b[0m\u001b[1;32m    206\u001b[0m         \u001b[0;32melse\u001b[0m\u001b[0;34m:\u001b[0m\u001b[0;34m\u001b[0m\u001b[0;34m\u001b[0m\u001b[0m\n\u001b[1;32m    207\u001b[0m             raise TypeError(\n",
            "\u001b[0;32m/usr/local/lib/python3.10/dist-packages/pyspark/ml/pipeline.py\u001b[0m in \u001b[0;36m_fit\u001b[0;34m(self, dataset)\u001b[0m\n\u001b[1;32m    132\u001b[0m                     \u001b[0mdataset\u001b[0m \u001b[0;34m=\u001b[0m \u001b[0mstage\u001b[0m\u001b[0;34m.\u001b[0m\u001b[0mtransform\u001b[0m\u001b[0;34m(\u001b[0m\u001b[0mdataset\u001b[0m\u001b[0;34m)\u001b[0m\u001b[0;34m\u001b[0m\u001b[0;34m\u001b[0m\u001b[0m\n\u001b[1;32m    133\u001b[0m                 \u001b[0;32melse\u001b[0m\u001b[0;34m:\u001b[0m  \u001b[0;31m# must be an Estimator\u001b[0m\u001b[0;34m\u001b[0m\u001b[0;34m\u001b[0m\u001b[0m\n\u001b[0;32m--> 134\u001b[0;31m                     \u001b[0mmodel\u001b[0m \u001b[0;34m=\u001b[0m \u001b[0mstage\u001b[0m\u001b[0;34m.\u001b[0m\u001b[0mfit\u001b[0m\u001b[0;34m(\u001b[0m\u001b[0mdataset\u001b[0m\u001b[0;34m)\u001b[0m\u001b[0;34m\u001b[0m\u001b[0;34m\u001b[0m\u001b[0m\n\u001b[0m\u001b[1;32m    135\u001b[0m                     \u001b[0mtransformers\u001b[0m\u001b[0;34m.\u001b[0m\u001b[0mappend\u001b[0m\u001b[0;34m(\u001b[0m\u001b[0mmodel\u001b[0m\u001b[0;34m)\u001b[0m\u001b[0;34m\u001b[0m\u001b[0;34m\u001b[0m\u001b[0m\n\u001b[1;32m    136\u001b[0m                     \u001b[0;32mif\u001b[0m \u001b[0mi\u001b[0m \u001b[0;34m<\u001b[0m \u001b[0mindexOfLastEstimator\u001b[0m\u001b[0;34m:\u001b[0m\u001b[0;34m\u001b[0m\u001b[0;34m\u001b[0m\u001b[0m\n",
            "\u001b[0;32m/usr/local/lib/python3.10/dist-packages/pyspark/ml/base.py\u001b[0m in \u001b[0;36mfit\u001b[0;34m(self, dataset, params)\u001b[0m\n\u001b[1;32m    203\u001b[0m                 \u001b[0;32mreturn\u001b[0m \u001b[0mself\u001b[0m\u001b[0;34m.\u001b[0m\u001b[0mcopy\u001b[0m\u001b[0;34m(\u001b[0m\u001b[0mparams\u001b[0m\u001b[0;34m)\u001b[0m\u001b[0;34m.\u001b[0m\u001b[0m_fit\u001b[0m\u001b[0;34m(\u001b[0m\u001b[0mdataset\u001b[0m\u001b[0;34m)\u001b[0m\u001b[0;34m\u001b[0m\u001b[0;34m\u001b[0m\u001b[0m\n\u001b[1;32m    204\u001b[0m             \u001b[0;32melse\u001b[0m\u001b[0;34m:\u001b[0m\u001b[0;34m\u001b[0m\u001b[0;34m\u001b[0m\u001b[0m\n\u001b[0;32m--> 205\u001b[0;31m                 \u001b[0;32mreturn\u001b[0m \u001b[0mself\u001b[0m\u001b[0;34m.\u001b[0m\u001b[0m_fit\u001b[0m\u001b[0;34m(\u001b[0m\u001b[0mdataset\u001b[0m\u001b[0;34m)\u001b[0m\u001b[0;34m\u001b[0m\u001b[0;34m\u001b[0m\u001b[0m\n\u001b[0m\u001b[1;32m    206\u001b[0m         \u001b[0;32melse\u001b[0m\u001b[0;34m:\u001b[0m\u001b[0;34m\u001b[0m\u001b[0;34m\u001b[0m\u001b[0m\n\u001b[1;32m    207\u001b[0m             raise TypeError(\n",
            "\u001b[0;32m/usr/local/lib/python3.10/dist-packages/pyspark/ml/wrapper.py\u001b[0m in \u001b[0;36m_fit\u001b[0;34m(self, dataset)\u001b[0m\n\u001b[1;32m    379\u001b[0m \u001b[0;34m\u001b[0m\u001b[0m\n\u001b[1;32m    380\u001b[0m     \u001b[0;32mdef\u001b[0m \u001b[0m_fit\u001b[0m\u001b[0;34m(\u001b[0m\u001b[0mself\u001b[0m\u001b[0;34m,\u001b[0m \u001b[0mdataset\u001b[0m\u001b[0;34m:\u001b[0m \u001b[0mDataFrame\u001b[0m\u001b[0;34m)\u001b[0m \u001b[0;34m->\u001b[0m \u001b[0mJM\u001b[0m\u001b[0;34m:\u001b[0m\u001b[0;34m\u001b[0m\u001b[0;34m\u001b[0m\u001b[0m\n\u001b[0;32m--> 381\u001b[0;31m         \u001b[0mjava_model\u001b[0m \u001b[0;34m=\u001b[0m \u001b[0mself\u001b[0m\u001b[0;34m.\u001b[0m\u001b[0m_fit_java\u001b[0m\u001b[0;34m(\u001b[0m\u001b[0mdataset\u001b[0m\u001b[0;34m)\u001b[0m\u001b[0;34m\u001b[0m\u001b[0;34m\u001b[0m\u001b[0m\n\u001b[0m\u001b[1;32m    382\u001b[0m         \u001b[0mmodel\u001b[0m \u001b[0;34m=\u001b[0m \u001b[0mself\u001b[0m\u001b[0;34m.\u001b[0m\u001b[0m_create_model\u001b[0m\u001b[0;34m(\u001b[0m\u001b[0mjava_model\u001b[0m\u001b[0;34m)\u001b[0m\u001b[0;34m\u001b[0m\u001b[0;34m\u001b[0m\u001b[0m\n\u001b[1;32m    383\u001b[0m         \u001b[0;32mreturn\u001b[0m \u001b[0mself\u001b[0m\u001b[0;34m.\u001b[0m\u001b[0m_copyValues\u001b[0m\u001b[0;34m(\u001b[0m\u001b[0mmodel\u001b[0m\u001b[0;34m)\u001b[0m\u001b[0;34m\u001b[0m\u001b[0;34m\u001b[0m\u001b[0m\n",
            "\u001b[0;32m/usr/local/lib/python3.10/dist-packages/pyspark/ml/wrapper.py\u001b[0m in \u001b[0;36m_fit_java\u001b[0;34m(self, dataset)\u001b[0m\n\u001b[1;32m    376\u001b[0m \u001b[0;34m\u001b[0m\u001b[0m\n\u001b[1;32m    377\u001b[0m         \u001b[0mself\u001b[0m\u001b[0;34m.\u001b[0m\u001b[0m_transfer_params_to_java\u001b[0m\u001b[0;34m(\u001b[0m\u001b[0;34m)\u001b[0m\u001b[0;34m\u001b[0m\u001b[0;34m\u001b[0m\u001b[0m\n\u001b[0;32m--> 378\u001b[0;31m         \u001b[0;32mreturn\u001b[0m \u001b[0mself\u001b[0m\u001b[0;34m.\u001b[0m\u001b[0m_java_obj\u001b[0m\u001b[0;34m.\u001b[0m\u001b[0mfit\u001b[0m\u001b[0;34m(\u001b[0m\u001b[0mdataset\u001b[0m\u001b[0;34m.\u001b[0m\u001b[0m_jdf\u001b[0m\u001b[0;34m)\u001b[0m\u001b[0;34m\u001b[0m\u001b[0;34m\u001b[0m\u001b[0m\n\u001b[0m\u001b[1;32m    379\u001b[0m \u001b[0;34m\u001b[0m\u001b[0m\n\u001b[1;32m    380\u001b[0m     \u001b[0;32mdef\u001b[0m \u001b[0m_fit\u001b[0m\u001b[0;34m(\u001b[0m\u001b[0mself\u001b[0m\u001b[0;34m,\u001b[0m \u001b[0mdataset\u001b[0m\u001b[0;34m:\u001b[0m \u001b[0mDataFrame\u001b[0m\u001b[0;34m)\u001b[0m \u001b[0;34m->\u001b[0m \u001b[0mJM\u001b[0m\u001b[0;34m:\u001b[0m\u001b[0;34m\u001b[0m\u001b[0;34m\u001b[0m\u001b[0m\n",
            "\u001b[0;32m/usr/local/lib/python3.10/dist-packages/py4j/java_gateway.py\u001b[0m in \u001b[0;36m__call__\u001b[0;34m(self, *args)\u001b[0m\n\u001b[1;32m   1320\u001b[0m \u001b[0;34m\u001b[0m\u001b[0m\n\u001b[1;32m   1321\u001b[0m         \u001b[0manswer\u001b[0m \u001b[0;34m=\u001b[0m \u001b[0mself\u001b[0m\u001b[0;34m.\u001b[0m\u001b[0mgateway_client\u001b[0m\u001b[0;34m.\u001b[0m\u001b[0msend_command\u001b[0m\u001b[0;34m(\u001b[0m\u001b[0mcommand\u001b[0m\u001b[0;34m)\u001b[0m\u001b[0;34m\u001b[0m\u001b[0;34m\u001b[0m\u001b[0m\n\u001b[0;32m-> 1322\u001b[0;31m         return_value = get_return_value(\n\u001b[0m\u001b[1;32m   1323\u001b[0m             answer, self.gateway_client, self.target_id, self.name)\n\u001b[1;32m   1324\u001b[0m \u001b[0;34m\u001b[0m\u001b[0m\n",
            "\u001b[0;32m/usr/local/lib/python3.10/dist-packages/pyspark/errors/exceptions/captured.py\u001b[0m in \u001b[0;36mdeco\u001b[0;34m(*a, **kw)\u001b[0m\n\u001b[1;32m    177\u001b[0m     \u001b[0;32mdef\u001b[0m \u001b[0mdeco\u001b[0m\u001b[0;34m(\u001b[0m\u001b[0;34m*\u001b[0m\u001b[0ma\u001b[0m\u001b[0;34m:\u001b[0m \u001b[0mAny\u001b[0m\u001b[0;34m,\u001b[0m \u001b[0;34m**\u001b[0m\u001b[0mkw\u001b[0m\u001b[0;34m:\u001b[0m \u001b[0mAny\u001b[0m\u001b[0;34m)\u001b[0m \u001b[0;34m->\u001b[0m \u001b[0mAny\u001b[0m\u001b[0;34m:\u001b[0m\u001b[0;34m\u001b[0m\u001b[0;34m\u001b[0m\u001b[0m\n\u001b[1;32m    178\u001b[0m         \u001b[0;32mtry\u001b[0m\u001b[0;34m:\u001b[0m\u001b[0;34m\u001b[0m\u001b[0;34m\u001b[0m\u001b[0m\n\u001b[0;32m--> 179\u001b[0;31m             \u001b[0;32mreturn\u001b[0m \u001b[0mf\u001b[0m\u001b[0;34m(\u001b[0m\u001b[0;34m*\u001b[0m\u001b[0ma\u001b[0m\u001b[0;34m,\u001b[0m \u001b[0;34m**\u001b[0m\u001b[0mkw\u001b[0m\u001b[0;34m)\u001b[0m\u001b[0;34m\u001b[0m\u001b[0;34m\u001b[0m\u001b[0m\n\u001b[0m\u001b[1;32m    180\u001b[0m         \u001b[0;32mexcept\u001b[0m \u001b[0mPy4JJavaError\u001b[0m \u001b[0;32mas\u001b[0m \u001b[0me\u001b[0m\u001b[0;34m:\u001b[0m\u001b[0;34m\u001b[0m\u001b[0;34m\u001b[0m\u001b[0m\n\u001b[1;32m    181\u001b[0m             \u001b[0mconverted\u001b[0m \u001b[0;34m=\u001b[0m \u001b[0mconvert_exception\u001b[0m\u001b[0;34m(\u001b[0m\u001b[0me\u001b[0m\u001b[0;34m.\u001b[0m\u001b[0mjava_exception\u001b[0m\u001b[0;34m)\u001b[0m\u001b[0;34m\u001b[0m\u001b[0;34m\u001b[0m\u001b[0m\n",
            "\u001b[0;32m/usr/local/lib/python3.10/dist-packages/py4j/protocol.py\u001b[0m in \u001b[0;36mget_return_value\u001b[0;34m(answer, gateway_client, target_id, name)\u001b[0m\n\u001b[1;32m    324\u001b[0m             \u001b[0mvalue\u001b[0m \u001b[0;34m=\u001b[0m \u001b[0mOUTPUT_CONVERTER\u001b[0m\u001b[0;34m[\u001b[0m\u001b[0mtype\u001b[0m\u001b[0;34m]\u001b[0m\u001b[0;34m(\u001b[0m\u001b[0manswer\u001b[0m\u001b[0;34m[\u001b[0m\u001b[0;36m2\u001b[0m\u001b[0;34m:\u001b[0m\u001b[0;34m]\u001b[0m\u001b[0;34m,\u001b[0m \u001b[0mgateway_client\u001b[0m\u001b[0;34m)\u001b[0m\u001b[0;34m\u001b[0m\u001b[0;34m\u001b[0m\u001b[0m\n\u001b[1;32m    325\u001b[0m             \u001b[0;32mif\u001b[0m \u001b[0manswer\u001b[0m\u001b[0;34m[\u001b[0m\u001b[0;36m1\u001b[0m\u001b[0;34m]\u001b[0m \u001b[0;34m==\u001b[0m \u001b[0mREFERENCE_TYPE\u001b[0m\u001b[0;34m:\u001b[0m\u001b[0;34m\u001b[0m\u001b[0;34m\u001b[0m\u001b[0m\n\u001b[0;32m--> 326\u001b[0;31m                 raise Py4JJavaError(\n\u001b[0m\u001b[1;32m    327\u001b[0m                     \u001b[0;34m\"An error occurred while calling {0}{1}{2}.\\n\"\u001b[0m\u001b[0;34m.\u001b[0m\u001b[0;34m\u001b[0m\u001b[0;34m\u001b[0m\u001b[0m\n\u001b[1;32m    328\u001b[0m                     format(target_id, \".\", name), value)\n",
            "\u001b[0;31mPy4JJavaError\u001b[0m: An error occurred while calling o324.fit.\n: org.apache.spark.SparkException: Job aborted due to stage failure: Task 2 in stage 192.0 failed 1 times, most recent failure: Lost task 2.0 in stage 192.0 (TID 1394) (0a560ce1891b executor driver): java.lang.OutOfMemoryError: Java heap space\n\tat org.apache.spark.util.collection.unsafe.sort.UnsafeSorterSpillReader.<init>(UnsafeSorterSpillReader.java:50)\n\tat org.apache.spark.util.collection.unsafe.sort.UnsafeSorterSpillWriter.getReader(UnsafeSorterSpillWriter.java:159)\n\tat org.apache.spark.util.collection.unsafe.sort.UnsafeExternalSorter.getSortedIterator(UnsafeExternalSorter.java:555)\n\tat org.apache.spark.sql.execution.UnsafeExternalRowSorter.sort(UnsafeExternalRowSorter.java:172)\n\tat org.apache.spark.sql.catalyst.expressions.GeneratedClass$GeneratedIteratorForCodegenStage43.processNext(Unknown Source)\n\tat org.apache.spark.sql.execution.BufferedRowIterator.hasNext(BufferedRowIterator.java:43)\n\tat org.apache.spark.sql.execution.WholeStageCodegenEvaluatorFactory$WholeStageCodegenPartitionEvaluator$$anon$1.hasNext(WholeStageCodegenEvaluatorFactory.scala:43)\n\tat org.apache.spark.sql.execution.window.WindowExec$$anon$1.fetchNextRow(WindowExec.scala:118)\n\tat org.apache.spark.sql.execution.window.WindowExec$$anon$1.<init>(WindowExec.scala:127)\n\tat org.apache.spark.sql.execution.window.WindowExec.$anonfun$doExecute$3(WindowExec.scala:107)\n\tat org.apache.spark.sql.execution.window.WindowExec$$Lambda$4790/0x00000008417e2840.apply(Unknown Source)\n\tat org.apache.spark.rdd.RDD.$anonfun$mapPartitions$2(RDD.scala:855)\n\tat org.apache.spark.rdd.RDD.$anonfun$mapPartitions$2$adapted(RDD.scala:855)\n\tat org.apache.spark.rdd.RDD$$Lambda$2978/0x00000008412c6c40.apply(Unknown Source)\n\tat org.apache.spark.rdd.MapPartitionsRDD.compute(MapPartitionsRDD.scala:52)\n\tat org.apache.spark.rdd.RDD.computeOrReadCheckpoint(RDD.scala:364)\n\tat org.apache.spark.rdd.RDD.iterator(RDD.scala:328)\n\tat org.apache.spark.rdd.MapPartitionsRDD.compute(MapPartitionsRDD.scala:52)\n\tat org.apache.spark.rdd.RDD.computeOrReadCheckpoint(RDD.scala:364)\n\tat org.apache.spark.rdd.RDD.iterator(RDD.scala:328)\n\tat org.apache.spark.rdd.MapPartitionsRDD.compute(MapPartitionsRDD.scala:52)\n\tat org.apache.spark.rdd.RDD.computeOrReadCheckpoint(RDD.scala:364)\n\tat org.apache.spark.rdd.RDD.iterator(RDD.scala:328)\n\tat org.apache.spark.sql.execution.SQLExecutionRDD.$anonfun$compute$1(SQLExecutionRDD.scala:52)\n\tat org.apache.spark.sql.execution.SQLExecutionRDD$$Lambda$2992/0x00000008412fac40.apply(Unknown Source)\n\tat org.apache.spark.sql.internal.SQLConf$.withExistingConf(SQLConf.scala:158)\n\tat org.apache.spark.sql.execution.SQLExecutionRDD.compute(SQLExecutionRDD.scala:52)\n\tat org.apache.spark.rdd.RDD.computeOrReadCheckpoint(RDD.scala:364)\n\tat org.apache.spark.rdd.RDD.iterator(RDD.scala:328)\n\tat org.apache.spark.rdd.MapPartitionsRDD.compute(MapPartitionsRDD.scala:52)\n\tat org.apache.spark.rdd.RDD.computeOrReadCheckpoint(RDD.scala:364)\n\tat org.apache.spark.rdd.RDD.iterator(RDD.scala:328)\n\nDriver stacktrace:\n\tat org.apache.spark.scheduler.DAGScheduler.failJobAndIndependentStages(DAGScheduler.scala:2844)\n\tat org.apache.spark.scheduler.DAGScheduler.$anonfun$abortStage$2(DAGScheduler.scala:2780)\n\tat org.apache.spark.scheduler.DAGScheduler.$anonfun$abortStage$2$adapted(DAGScheduler.scala:2779)\n\tat scala.collection.mutable.ResizableArray.foreach(ResizableArray.scala:62)\n\tat scala.collection.mutable.ResizableArray.foreach$(ResizableArray.scala:55)\n\tat scala.collection.mutable.ArrayBuffer.foreach(ArrayBuffer.scala:49)\n\tat org.apache.spark.scheduler.DAGScheduler.abortStage(DAGScheduler.scala:2779)\n\tat org.apache.spark.scheduler.DAGScheduler.$anonfun$handleTaskSetFailed$1(DAGScheduler.scala:1242)\n\tat org.apache.spark.scheduler.DAGScheduler.$anonfun$handleTaskSetFailed$1$adapted(DAGScheduler.scala:1242)\n\tat scala.Option.foreach(Option.scala:407)\n\tat org.apache.spark.scheduler.DAGScheduler.handleTaskSetFailed(DAGScheduler.scala:1242)\n\tat org.apache.spark.scheduler.DAGSchedulerEventProcessLoop.doOnReceive(DAGScheduler.scala:3048)\n\tat org.apache.spark.scheduler.DAGSchedulerEventProcessLoop.onReceive(DAGScheduler.scala:2982)\n\tat org.apache.spark.scheduler.DAGSchedulerEventProcessLoop.onReceive(DAGScheduler.scala:2971)\n\tat org.apache.spark.util.EventLoop$$anon$1.run(EventLoop.scala:49)\n\tat org.apache.spark.scheduler.DAGScheduler.runJob(DAGScheduler.scala:984)\n\tat org.apache.spark.SparkContext.runJob(SparkContext.scala:2398)\n\tat org.apache.spark.SparkContext.runJob(SparkContext.scala:2493)\n\tat org.apache.spark.rdd.RDD.$anonfun$fold$1(RDD.scala:1199)\n\tat org.apache.spark.rdd.RDDOperationScope$.withScope(RDDOperationScope.scala:151)\n\tat org.apache.spark.rdd.RDDOperationScope$.withScope(RDDOperationScope.scala:112)\n\tat org.apache.spark.rdd.RDD.withScope(RDD.scala:407)\n\tat org.apache.spark.rdd.RDD.fold(RDD.scala:1193)\n\tat org.apache.spark.rdd.RDD.$anonfun$treeAggregate$2(RDD.scala:1286)\n\tat org.apache.spark.rdd.RDDOperationScope$.withScope(RDDOperationScope.scala:151)\n\tat org.apache.spark.rdd.RDDOperationScope$.withScope(RDDOperationScope.scala:112)\n\tat org.apache.spark.rdd.RDD.withScope(RDD.scala:407)\n\tat org.apache.spark.rdd.RDD.treeAggregate(RDD.scala:1253)\n\tat org.apache.spark.rdd.RDD.$anonfun$treeAggregate$1(RDD.scala:1239)\n\tat org.apache.spark.rdd.RDDOperationScope$.withScope(RDDOperationScope.scala:151)\n\tat org.apache.spark.rdd.RDDOperationScope$.withScope(RDDOperationScope.scala:112)\n\tat org.apache.spark.rdd.RDD.withScope(RDD.scala:407)\n\tat org.apache.spark.rdd.RDD.treeAggregate(RDD.scala:1239)\n\tat org.apache.spark.ml.feature.OneHotEncoderCommon$.getOutputAttrGroupFromData(OneHotEncoder.scala:521)\n\tat org.apache.spark.ml.feature.OneHotEncoder.fit(OneHotEncoder.scala:196)\n\tat org.apache.spark.ml.feature.OneHotEncoder.fit(OneHotEncoder.scala:128)\n\tat java.base/jdk.internal.reflect.NativeMethodAccessorImpl.invoke0(Native Method)\n\tat java.base/jdk.internal.reflect.NativeMethodAccessorImpl.invoke(NativeMethodAccessorImpl.java:62)\n\tat java.base/jdk.internal.reflect.DelegatingMethodAccessorImpl.invoke(DelegatingMethodAccessorImpl.java:43)\n\tat java.base/java.lang.reflect.Method.invoke(Method.java:566)\n\tat py4j.reflection.MethodInvoker.invoke(MethodInvoker.java:244)\n\tat py4j.reflection.ReflectionEngine.invoke(ReflectionEngine.java:374)\n\tat py4j.Gateway.invoke(Gateway.java:282)\n\tat py4j.commands.AbstractCommand.invokeMethod(AbstractCommand.java:132)\n\tat py4j.commands.CallCommand.execute(CallCommand.java:79)\n\tat py4j.ClientServerConnection.waitForCommands(ClientServerConnection.java:182)\n\tat py4j.ClientServerConnection.run(ClientServerConnection.java:106)\n\tat java.base/java.lang.Thread.run(Thread.java:829)\nCaused by: java.lang.OutOfMemoryError: Java heap space\n\tat org.apache.spark.util.collection.unsafe.sort.UnsafeSorterSpillReader.<init>(UnsafeSorterSpillReader.java:50)\n\tat org.apache.spark.util.collection.unsafe.sort.UnsafeSorterSpillWriter.getReader(UnsafeSorterSpillWriter.java:159)\n\tat org.apache.spark.util.collection.unsafe.sort.UnsafeExternalSorter.getSortedIterator(UnsafeExternalSorter.java:555)\n\tat org.apache.spark.sql.execution.UnsafeExternalRowSorter.sort(UnsafeExternalRowSorter.java:172)\n\tat org.apache.spark.sql.catalyst.expressions.GeneratedClass$GeneratedIteratorForCodegenStage43.processNext(Unknown Source)\n\tat org.apache.spark.sql.execution.BufferedRowIterator.hasNext(BufferedRowIterator.java:43)\n\tat org.apache.spark.sql.execution.WholeStageCodegenEvaluatorFactory$WholeStageCodegenPartitionEvaluator$$anon$1.hasNext(WholeStageCodegenEvaluatorFactory.scala:43)\n\tat org.apache.spark.sql.execution.window.WindowExec$$anon$1.fetchNextRow(WindowExec.scala:118)\n\tat org.apache.spark.sql.execution.window.WindowExec$$anon$1.<init>(WindowExec.scala:127)\n\tat org.apache.spark.sql.execution.window.WindowExec.$anonfun$doExecute$3(WindowExec.scala:107)\n\tat org.apache.spark.sql.execution.window.WindowExec$$Lambda$4790/0x00000008417e2840.apply(Unknown Source)\n\tat org.apache.spark.rdd.RDD.$anonfun$mapPartitions$2(RDD.scala:855)\n\tat org.apache.spark.rdd.RDD.$anonfun$mapPartitions$2$adapted(RDD.scala:855)\n\tat org.apache.spark.rdd.RDD$$Lambda$2978/0x00000008412c6c40.apply(Unknown Source)\n\tat org.apache.spark.rdd.MapPartitionsRDD.compute(MapPartitionsRDD.scala:52)\n\tat org.apache.spark.rdd.RDD.computeOrReadCheckpoint(RDD.scala:364)\n\tat org.apache.spark.rdd.RDD.iterator(RDD.scala:328)\n\tat org.apache.spark.rdd.MapPartitionsRDD.compute(MapPartitionsRDD.scala:52)\n\tat org.apache.spark.rdd.RDD.computeOrReadCheckpoint(RDD.scala:364)\n\tat org.apache.spark.rdd.RDD.iterator(RDD.scala:328)\n\tat org.apache.spark.rdd.MapPartitionsRDD.compute(MapPartitionsRDD.scala:52)\n\tat org.apache.spark.rdd.RDD.computeOrReadCheckpoint(RDD.scala:364)\n\tat org.apache.spark.rdd.RDD.iterator(RDD.scala:328)\n\tat org.apache.spark.sql.execution.SQLExecutionRDD.$anonfun$compute$1(SQLExecutionRDD.scala:52)\n\tat org.apache.spark.sql.execution.SQLExecutionRDD$$Lambda$2992/0x00000008412fac40.apply(Unknown Source)\n\tat org.apache.spark.sql.internal.SQLConf$.withExistingConf(SQLConf.scala:158)\n\tat org.apache.spark.sql.execution.SQLExecutionRDD.compute(SQLExecutionRDD.scala:52)\n\tat org.apache.spark.rdd.RDD.computeOrReadCheckpoint(RDD.scala:364)\n\tat org.apache.spark.rdd.RDD.iterator(RDD.scala:328)\n\tat org.apache.spark.rdd.MapPartitionsRDD.compute(MapPartitionsRDD.scala:52)\n\tat org.apache.spark.rdd.RDD.computeOrReadCheckpoint(RDD.scala:364)\n\tat org.apache.spark.rdd.RDD.iterator(RDD.scala:328)\n"
          ]
        }
      ],
      "source": [
        "# 2. Model Training\n",
        "\n",
        "# Split the data into training and testing sets\n",
        "train_data, test_data = df_final.randomSplit([0.8, 0.2], seed=123)\n",
        "\n",
        "# Build Linear Regression model\n",
        "lr = LinearRegression(featuresCol='features', labelCol='price')\n",
        "\n",
        "# Create Model RandomForestRegressor\n",
        "# rf = RandomForestRegressor(labelCol=\"price\", featuresCol=\"features\", numTrees=10)\n",
        "\n",
        "# Create a pipeline\n",
        "pipeline = Pipeline(stages=[gas_id_encoder, op_features, lr])\n",
        "\n",
        "# Train the model\n",
        "model = pipeline.fit(train_data)\n",
        "\n",
        "# We can look what inside the pipeline\n",
        "model.stages[-1]"
      ]
    },
    {
      "cell_type": "markdown",
      "source": [
        "My code is good and I don't know why I still have this error. With other people it works but not with me. I honestly don't understand."
      ],
      "metadata": {
        "id": "MJi1FUofFIhB"
      }
    },
    {
      "cell_type": "code",
      "execution_count": null,
      "metadata": {
        "id": "X6GdXUuJ7r5k"
      },
      "outputs": [],
      "source": [
        "# 3. Model Evaluation\n",
        "\n",
        "# Make predictions on the test set\n",
        "predictions = model.transform(test_data)\n",
        "predictions.show(5, truncate = False)"
      ]
    },
    {
      "cell_type": "markdown",
      "source": [
        "I evaluate the performance the regression model by using the function `RegressionEvaluator` from the library pyspark.ml.evaluation. We use 'price' column as the true labels (ground truth) and the 'prediction' column as the predicted labels and Root Mean Squared Error (RMSE) as the evaluation metric."
      ],
      "metadata": {
        "id": "8kxZUcyfrrUF"
      }
    },
    {
      "cell_type": "code",
      "execution_count": null,
      "metadata": {
        "id": "GS0VN2Xx8Eyj"
      },
      "outputs": [],
      "source": [
        "# Evaluate the model\n",
        "evaluator = RegressionEvaluator(labelCol=\"price\", predictionCol=\"prediction\", metricName=\"rmse\")\n",
        "rmse = evaluator.evaluate(predictions) # We evaluate the test dataset on the fitting trained dataset\n",
        "print(f\"Root Mean Squared Error (RMSE): {rmse}\")"
      ]
    },
    {
      "cell_type": "code",
      "source": [
        "# 4. Prediction on a given gas type and station\n",
        "\n",
        "station_to_predict = '17350001'\n",
        "gas_label_to_predict = 'Gazole' # price -> 2.027\n",
        "\n",
        "# Filter new_data for the specific station and gas type\n",
        "new_data_for_prediction = df_final.filter((col(\"id_pdv\") == station_to_predict) & (col(\"gas_label\") == gas_label_to_predict))\n",
        "\n",
        "# Make predictions on the filtered new data\n",
        "new_predictions = model.transform(new_data_for_prediction)\n",
        "\n",
        "# Show the predictions\n",
        "predictions.select('lag_price_1', 'lag_price_2', 'id_pdv', 'week_index', 'gas_id_onehot', 'avg_day_price_france', 'prediction').show()"
      ],
      "metadata": {
        "id": "uu3_fIo0UOI9"
      },
      "execution_count": null,
      "outputs": []
    },
    {
      "cell_type": "code",
      "source": [
        "# 5. Dispersion Plot\n",
        "actual_vs_predicted = predictions.select('price', 'prediction').toPandas()\n",
        "plt.scatter(actual_vs_predicted['price'], actual_vs_predicted['prediction'], color='blue', label='Actual vs. Predicted')\n",
        "plt.plot([min(actual_vs_predicted['price']), max(actual_vs_predicted['price'])], [min(actual_vs_predicted['price']), max(actual_vs_predicted['price'])], linestyle='--', color='red', label='Perfect Prediction Line')\n",
        "plt.xlabel('Actual Price')\n",
        "plt.ylabel('Predicted Price')\n",
        "plt.legend()\n",
        "plt.show()"
      ],
      "metadata": {
        "id": "KfEJxZ81AEJT"
      },
      "execution_count": null,
      "outputs": []
    }
  ],
  "metadata": {
    "colab": {
      "collapsed_sections": [
        "HNkRPfphvoA0"
      ],
      "provenance": [],
      "gpuType": "T4",
      "machine_shape": "hm",
      "authorship_tag": "ABX9TyNNaZiPpTyiPQEYL85v7r1N",
      "include_colab_link": true
    },
    "kernelspec": {
      "display_name": "Python 3",
      "name": "python3"
    },
    "language_info": {
      "name": "python"
    },
    "accelerator": "GPU"
  },
  "nbformat": 4,
  "nbformat_minor": 0
}